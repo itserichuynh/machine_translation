{
 "cells": [
  {
   "cell_type": "code",
   "execution_count": 1,
   "id": "172eeadc-b24d-4a95-9118-b356b13ad0f6",
   "metadata": {},
   "outputs": [],
   "source": [
    "from datasets import Dataset, DatasetDict\n",
    "from datetime import datetime\n",
    "import os"
   ]
  },
  {
   "cell_type": "code",
   "execution_count": 2,
   "id": "39ba4f8b-5a60-418e-a3fe-cb6fff89d2c5",
   "metadata": {},
   "outputs": [],
   "source": [
    "from __future__ import unicode_literals, print_function, division\n",
    "from io import open\n",
    "import unicodedata\n",
    "import re\n",
    "import random\n",
    "\n",
    "import string\n",
    "import re\n",
    "from pickle import dump, load\n",
    "from unicodedata import normalize\n",
    "\n",
    "import torch\n",
    "import torch.nn as nn\n",
    "from torch import optim\n",
    "import torch.nn.functional as F\n",
    "\n",
    "import numpy as np\n",
    "from torch.utils.data import TensorDataset, DataLoader, RandomSampler\n",
    "\n",
    "if torch.backends.mps.is_available():\n",
    "    device = torch.device(\"mps\")\n",
    "elif torch.cuda.is_available():\n",
    "    device = torch.device(\"cuda\")\n",
    "else:\n",
    "    device = torch.device(\"cpu\")"
   ]
  },
  {
   "cell_type": "code",
   "execution_count": 3,
   "id": "a2e4edcc-13b1-493f-b6aa-5fb87035ea09",
   "metadata": {},
   "outputs": [],
   "source": [
    "import torch\n",
    "import torch.nn as nn\n",
    "import torch.optim as optim\n",
    "import random\n",
    "import numpy as np\n",
    "import spacy\n",
    "import datasets\n",
    "import torchtext\n",
    "import tqdm\n",
    "import evaluate"
   ]
  },
  {
   "cell_type": "code",
   "execution_count": 4,
   "id": "6f0f0b74-2d80-436d-923b-4018667e5f32",
   "metadata": {},
   "outputs": [],
   "source": [
    "seed = 1234\n",
    "\n",
    "random.seed(seed)\n",
    "np.random.seed(seed)\n",
    "torch.manual_seed(seed)\n",
    "torch.cuda.manual_seed(seed)\n",
    "torch.backends.cudnn.deterministic = True"
   ]
  },
  {
   "cell_type": "markdown",
   "id": "16154ead-44d4-40bc-945c-effd6e5366d2",
   "metadata": {},
   "source": [
    "### Dataset"
   ]
  },
  {
   "cell_type": "code",
   "execution_count": 5,
   "id": "6485e08a-e68b-47ee-84c7-6f21d4095b3a",
   "metadata": {},
   "outputs": [],
   "source": [
    "# Turn a Unicode string to plain ASCII, thanks to\n",
    "# https://stackoverflow.com/a/518232/2809427\n",
    "def unicodeToAscii(s):\n",
    "    return ''.join(\n",
    "        c for c in unicodedata.normalize('NFD', s)\n",
    "        if unicodedata.category(c) != 'Mn'\n",
    "    )\n",
    "\n",
    "# Lowercase, trim, and remove non-letter characters\n",
    "def normalizeString(s):\n",
    "    s = unicodeToAscii(s.lower().strip())\n",
    "    s = re.sub(r\"([.!?])\", r\" \\1\", s)\n",
    "    s = re.sub(r\"[^a-zA-Z!?]+\", r\" \", s)\n",
    "    return s.strip()"
   ]
  },
  {
   "cell_type": "code",
   "execution_count": 6,
   "id": "36e81dcb-2772-446c-a5c0-801f25209986",
   "metadata": {},
   "outputs": [],
   "source": [
    "# def readData(lang1, lang2):\n",
    "#     print(\"Reading lines...\")\n",
    "\n",
    "#     # Read the file and split into lines\n",
    "#     lines = open('../data/wiki/%s-%s.txt' % (lang1, lang2), encoding='utf-8').\\\n",
    "#         read().strip().split('\\n')\n",
    "\n",
    "#     # Split every line into pairs and normalize\n",
    "#     pairs = [[normalizeString(s) for s in l.split('\\t')] for l in lines]\n",
    "\n",
    "#     # Reverse pairs, make Lang instances\n",
    "#     # if reverse:\n",
    "#     #     pairs = [list(reversed(p)) for p in pairs]\n",
    "#     #     input_lang = Lang(lang2)\n",
    "#     #     output_lang = Lang(lang1)\n",
    "#     # else:\n",
    "#     #     input_lang = Lang(lang1)\n",
    "#     #     output_lang = Lang(lang2)\n",
    "\n",
    "#     data = [{lang1: pairs[0], lang2: pairs[1]}for pair in pairs]\n",
    "\n",
    "#     return data"
   ]
  },
  {
   "cell_type": "code",
   "execution_count": 7,
   "id": "a7f7890a-2ff6-4c2a-860a-adbbd2898325",
   "metadata": {},
   "outputs": [],
   "source": [
    "# data = readData('en', 'fr')"
   ]
  },
  {
   "cell_type": "code",
   "execution_count": 8,
   "id": "06e7c943-7478-4919-a8a3-6d34eeddf77b",
   "metadata": {},
   "outputs": [],
   "source": [
    "from lxml import etree\n",
    "\n",
    "def tmx_to_tabbed_txt(tmx_file, output_file):\n",
    "    \"\"\"Extracts English and Hawaiian translations from a TMX file and saves them as tab-separated pairs.\"\"\"\n",
    "    \n",
    "    # Define the XML namespace for `xml:lang`\n",
    "    namespaces = {'xml': 'http://www.w3.org/XML/1998/namespace'}\n",
    "    \n",
    "    # Parse the TMX file\n",
    "    xml_tree = etree.parse(tmx_file)\n",
    "    trans_units = xml_tree.findall(\".//tu\")\n",
    "\n",
    "    pairs = []\n",
    "    \n",
    "    # Open the output file for writing\n",
    "    with open(output_file, \"w\", encoding=\"utf-8\") as out_file:\n",
    "        # Iterate over each translation unit\n",
    "        for trans_unit in trans_units:\n",
    "            pair = []\n",
    "            source_text = trans_unit.find(\".//tuv[@xml:lang='en']/seg\", namespaces)\n",
    "            target_text = trans_unit.find(\".//tuv[@xml:lang='fr']/seg\", namespaces)\n",
    "\n",
    "            # Write the tab-separated pair if both texts are available\n",
    "            if source_text is not None and target_text is not None and source_text.text and target_text.text:\n",
    "                out_file.write(f\"{source_text.text}\\t{target_text.text}\\n\")\n",
    "                pair.append(source_text.text)\n",
    "                pair.append(target_text.text)\n",
    "                pairs.append(pair)\n",
    "\n",
    "    return pairs\n",
    "\n",
    "if __name__ == \"__main__\":\n",
    "    tmx_file = \"../data/wiki/en-fr.tmx\"\n",
    "    output_file = \"../data/wiki/en-fr.txt\"\n",
    "    pairs = tmx_to_tabbed_txt(tmx_file, output_file)"
   ]
  },
  {
   "cell_type": "code",
   "execution_count": 9,
   "id": "f472bebe-87c1-4a0a-aaaa-27bc42bbb0c4",
   "metadata": {},
   "outputs": [],
   "source": [
    "pairs = [[normalizeString(sentence) for sentence in pair] for pair in pairs]"
   ]
  },
  {
   "cell_type": "code",
   "execution_count": 10,
   "id": "461416f7-155a-4cbf-b848-96dfd489af22",
   "metadata": {},
   "outputs": [
    {
     "data": {
      "text/plain": [
       "1365840"
      ]
     },
     "execution_count": 10,
     "metadata": {},
     "output_type": "execute_result"
    }
   ],
   "source": [
    "len(pairs)"
   ]
  },
  {
   "cell_type": "code",
   "execution_count": 11,
   "id": "203040e3-3a5b-451b-b07e-0d84504d3d53",
   "metadata": {},
   "outputs": [
    {
     "data": {
      "text/plain": [
       "137932"
      ]
     },
     "execution_count": 11,
     "metadata": {},
     "output_type": "execute_result"
    }
   ],
   "source": [
    "cleaned_pairs = [pair for pair in pairs if (len(pair[0]) > 0 and len(pair[0]) <= 41) and (len(pair[0]) > 0 and len(pair[0]) <= 41)]\n",
    "len(cleaned_pairs)"
   ]
  },
  {
   "cell_type": "code",
   "execution_count": 12,
   "id": "f4e709da-8198-4163-bf0c-a38896851120",
   "metadata": {},
   "outputs": [],
   "source": [
    "# Select the same amount of data with tatoeba\n",
    "# tatoeba_size = 135842\n",
    "# random.seed(1234)\n",
    "# start_index = random.randint(0, len(pairs) - tatoeba_size)\n",
    "# small_pairs = pairs[start_index:start_index + tatoeba_size]"
   ]
  },
  {
   "cell_type": "code",
   "execution_count": 13,
   "id": "0ada2934-9af3-4fc8-9e21-09dc8d78940b",
   "metadata": {},
   "outputs": [],
   "source": [
    "# len(small_pairs)"
   ]
  },
  {
   "cell_type": "code",
   "execution_count": 14,
   "id": "936bf70b-cd43-4c66-9fba-03f8407577ac",
   "metadata": {},
   "outputs": [],
   "source": [
    "# small_pairs[:10]"
   ]
  },
  {
   "cell_type": "code",
   "execution_count": 14,
   "id": "34904996-cf47-4425-b200-aa0b3f1ec42f",
   "metadata": {
    "scrolled": true
   },
   "outputs": [
    {
     "data": {
      "text/plain": [
       "[{'en': 'third stream', 'fr': 'le third stream'},\n",
       " {'en': 'gil evans influence', 'fr': 'l influence de gil evans'},\n",
       " {'en': 'the horn in the spotlight', 'fr': 'le cor sous les projecteurs'},\n",
       " {'en': 'contemporary horn in jazz', 'fr': 'le cor dans le jazz contemporain'},\n",
       " {'en': 'horn in jazz', 'fr': 'utilisateur djiboun le cor dans le jazz'},\n",
       " {'en': 'murder of jewish civil rights activists',\n",
       "  'fr': 'meurtre de militants juifs des droits civiques'},\n",
       " {'en': 'questioning the golden age', 'fr': 'interrogations sur l age d or'},\n",
       " {'en': 'the problem was the condescending tone',\n",
       "  'fr': 'le probleme etait le ton condescendant'},\n",
       " {'en': 'press of mississippi p lindemann albert s',\n",
       "  'fr': 'black jewish relations on trial leo frank and jim conley in the new south univ'},\n",
       " {'en': 'edwards brent hayes', 'fr': 'note on the text'},\n",
       " {'en': 'note on the text the souls of black folk',\n",
       "  'fr': 'the souls of black folk'},\n",
       " {'en': 'university of california press isbn p',\n",
       "  'fr': 'blackface white noise jewish immigrants in the hollywood melting pot'},\n",
       " {'en': 'melnick discussed in forman p',\n",
       "  'fr': 'university of california press'},\n",
       " {'en': 'greenberg p', 'fr': 'basic books pp'},\n",
       " {'en': 'isbn', 'fr': 'race matters'},\n",
       " {'en': 'washington dc wpc issn', 'fr': 'washington dc wpc'},\n",
       " {'en': 'retrieved july west p', 'fr': 'issn'},\n",
       " {'en': 'african american jewish relations',\n",
       "  'fr': 'utilisateur kimdime african american jewish relations'},\n",
       " {'en': 'martin luther king jr said in',\n",
       "  'fr': 'martin luther king jr declare en'},\n",
       " {'en': 'sivaji ganesan filmography', 'fr': 'sivaji ganesan filmographie'},\n",
       " {'en': 'photodisintegration', 'fr': 'photodesintegration'},\n",
       " {'en': 'the rp process', 'fr': 'processus rp'},\n",
       " {'en': 'at this point we have', 'fr': 'a ce stade nous avons'},\n",
       " {'en': 'nuclear physics a',\n",
       "  'fr': 'bibcode apj v doi koike o hashimoto m arai k wanajo s rapid proton capture on accreting neutron stars effects of uncertainty in the nuclear process astronomy and astrophysics'},\n",
       " {'en': 'chart of nuclides for carbon to fluorine',\n",
       "  'fr': 'carte des nucleides du carbone au fluor'},\n",
       " {'en': 'decay modes', 'fr': 'modes de decroissance'},\n",
       " {'en': 'general description', 'fr': 'description generale'},\n",
       " {'en': 'allowed transitions', 'fr': 'transitions permises'},\n",
       " {'en': 'astrophysical relevance', 'fr': 'interet astrophysique'},\n",
       " {'en': 'nucleosynthesis', 'fr': 'nucleosynthese'},\n",
       " {'en': 'waiting points and time scales',\n",
       "  'fr': 'points d attente et echelles de temps'},\n",
       " {'en': 'the r process', 'fr': 'processus r'},\n",
       " {'en': 'neutron stars', 'fr': 'etoiles a neutrons'},\n",
       " {'en': 'known values', 'fr': 'valeurs connues'},\n",
       " {'en': 'neutron drip line', 'fr': 'limite de stabilite neutron'},\n",
       " {'en': 'proton drip line', 'fr': 'limite de stabilite proton'},\n",
       " {'en': 'olev bus in service',\n",
       "  'fr': 'online electric vehicle olev est un vehicule electrique utilisant la technologie de rechargement par induction le mars les chercheurs de l institut superieur coreen des sciences et technologies kaist ont lance un systeme de transport en commun utilisant une route de rechargement par induction'},\n",
       " {'en': 'surviving examples', 'fr': 'exemplaires conserves'},\n",
       " {'en': 'nyc recently restored is also on display',\n",
       "  'fr': 'la nyc n recemment restauree est egalement presentee'},\n",
       " {'en': 'see also', 'fr': 'notes'},\n",
       " {'en': 'externally the units look just like e s',\n",
       "  'fr': 'exterieurement les unites sont comparables aux e'},\n",
       " {'en': 'original owners',\n",
       "  'fr': 'delaware lackawanna and western railroad emd demonstrators became dl w erie railroad fort worth and denver railway a b gulf mobile and ohio railroad a model e m rebuilt from an ex b o ea illinois central railroad and destroyed in the salem illinois derailment and retired or scrapped kansas city southern railway model e m rebuilt from e a louisville and nashville railroad missouri kansas texas railroad a b a b missouri pacific railroad renumbered new york central railroad pennsylvania railroad a a a a a a a a a a a a a a to new york central richmond fredericksburg and potomac railroad seaboard air line railroad to seaboard coast line st louis san francisco railway all named after a kentucky derby winner hence the name of their paint scheme southern railway renumbered southern railway new orleans and north eastern texas and pacific railway renumbered union pacific railroad b b b b rebuilt from e b wabash railroad totals'},\n",
       " {'en': 'and to via rail', 'fr': 'les et ont ete cedes a via rail'},\n",
       " {'en': 'features include', 'fr': 'fonctionnalite'},\n",
       " {'en': 'publication',\n",
       "  'fr': 'plusieurs des caracteristiques nouvelles de l opera notamment l utilisation d un grand orchestre amateur et plus particulierement l utilisation des clochettes ont pose des problemes pour l editeurs de britten boosey hawkes ernst roth a demande au sujet de la disponibilite des clochettes a la firme mears stainbank la fonderie de cloche de whitechapel a londres et a ecrit a britten pour lui demander de preparer une version alternative simplifiee de noye s fludde destinee a la publication depuis la rarete des clochettes dans la tonalite de mi bemol fait la partition originale a son avis impraticable n britten a resiste a une telle proposition je pense que si vous considerez l interpretation de l uvre dans une grande eglise avec environ cinquante enfants ou plus chantant vous serez d accord que l orchestre semblerait totalement inadequate si il etait seulement compose d un duo de piano quelques cordes et d un tambour ou deux britten a suggere que boosey hawkes devaient plutot investir dans un ensemble de clochettes en mi bemol en location pour les spectacles ou que la partie de clochettes pourrait etre tout simplement repere dans la partie de duo de piano plus tard apres la publication de la partition et dans la pers score a ete publie et dans la perspective de l imminente presentation a ettal britten a suggere qu il pourrait tenter de reecrire la musique pour un ensemble de clochette en re depuis les ensembles dans cette tonalite ont ete plus frequents qu en mi bemol'},\n",
       " {'en': 'recordings',\n",
       "  'fr': 'also contains britten s the golden vanity donald maxwell linda ormiston richard pasco richard hickox coull quartet endymion ensemble salisbury and chester schools chorus and orchestra cd virgin classics vc also contains britten s serenade for tenor horn and strings cd emi composer boxes the collector s edition discs david wilson johnson catherine wyn rogers benjamin luxon nicholas wilks members of the bbc concert orchestra finchley children s music group'},\n",
       " {'en': 'further reading', 'fr': 'autres textes'},\n",
       " {'en': 'chester mystery plays', 'fr': 'mysteres de chester'},\n",
       " {'en': 'roles', 'fr': 'distribution originale'},\n",
       " {'en': 'the spacious firmament on high', 'fr': 'creation'},\n",
       " {'en': 'creation', 'fr': 'composition'},\n",
       " {'en': 'writing',\n",
       "  'fr': 'britten commence la planification detaillee de l opera en aout alors qu il naviguait vers le canada pour une tournee avec l english opera group il dit a colin graham alors metteur en scene de l eog qu il le voulait pour diriger la nouvelle uvre apres une nouvelle reunion a londres au siege de l associated rediffusion le octobre britten commence les brouillons de sa musique a aldeburgh des le octobre n a la piece sur noe dans l edition de pollard il ajoute trois hymnes anglicans lord jesus think on me eternal father strong to save et the spacious firmament on high n introduit le chant grec repetitif kyrie eleison seigneur ayez pitie lors de l entree des animaux et alleluias leur de leur sortie triomphale le musicien a termine les deux tiers environ de l opera quand ford est demis de l associated rediffusion pretendument pour des carences administratives et inexperience l associated rediffusion se retire du projet ensuite repris par associated television atv dont le president lew grade prend personnellement la responsabilite de signer le contrat et demande instamment a britten d achever l opera'},\n",
       " {'en': 'performance history and reception', 'fr': 'creation'},\n",
       " {'en': 'premiere',\n",
       "  'fr': 'detail d une statue de noe et de la colombe dans l eglise d orford ou l opera noye s fludde a connu sa premiere interpretation'},\n",
       " {'en': 'number', 'fr': 'le nombre'},\n",
       " {'en': 'name', 'fr': 'noms'},\n",
       " {'en': 'competence',\n",
       "  'fr': 'la congregation sacree des cultes a ete divisee le mai en accord avec ses deux domaines de competence distincts le premier donna naissance a la congregation pour les causes des saints afin de decider des cas de beatification et de canonisation le second a la congregation pour le culte divin et la discipline des sacrements'},\n",
       " {'en': 'sacred roman rota',\n",
       "  'fr': 'a noter que la duree des postes au sein des departements et congregations a ete reduite a cinq ans renouvelables une fois comme avant les membres d une congregations ne peuvent pas intervenir dans la gestion quotidienne de cette congregation qui est assuree par le prefet et le personnel permanent les congregations se reunissent pour discuter de problemes generaux et determiner leurs lignes directrices environ une fois par an ce qui permet aux eveques meme de dioceses lointains de participer'},\n",
       " {'en': 'procedure',\n",
       "  'fr': 'chaque congregation possede des consultants qui sont assignes pour une periode renouvelable de cinq ans'},\n",
       " {'en': 'cardinal vicar for rome',\n",
       "  'fr': 'des reunions entre les chefs des departements peuvent etre organisees par le cardinal secretaire d etat afin de planifier leurs activites de s echanger des informations et des suggestions d autres reunions se tiennent egalement lorsque le besoin s en fait sentir des reunions impliquant les congregations pour les eveques pour le clerge pour la religion et pour l education catholique se tiennent regulierement sur des sujets concernant le clerge en general'},\n",
       " {'en': 'coordination',\n",
       "  'fr': 'decree christus dominus regimini ecclesiae universae sixth introductory paragraph regimini ecclesiae universae eleventh preliminary paragraph regimini ecclesiae universae eighth preliminary paragraph regimini ecclesiae universae regimini ecclesiae universae regimini ecclesiae universae regimini ecclesiae universae regimini ecclesiae universae regimini ecclesiae universae ninth preliminary paragraph regimini ecclesiae universae regimini ecclesiae universae regimini ecclesiae universae'},\n",
       " {'en': 'eratosthenes statesman', 'fr': 'eratosthene les trentes'},\n",
       " {'en': 'jasmin kurtic',\n",
       "  'fr': 'jasmin kurtic ne le janvier a crnomelj est un joueur de football slovene il evolue comme milieu de terrain a l atalanta bergame et en equipe nationale de slovenie'},\n",
       " {'en': 'early career', 'fr': 'carriere en club'},\n",
       " {'en': 'atalanta',\n",
       "  'fr': 'le er septembre il est prete a la fiorentina avec option d achat il fait ses debuts en ligue europa face a l ea guingamp sans parvenir a devenir pleinement titulaire pendant la saison de retour a sassuolo il est transfere a l atalanta bergame contre une indemnite estimee a millions d euros'},\n",
       " {'en': 'on june he was signed by atalanta b c',\n",
       "  'fr': 'carriere internationale'},\n",
       " {'en': 'atalanta b c',\n",
       "  'fr': 'kurtic evolue en equipe de slovenie espoirs en il fait ses debuts en selection a contre la grece le mai et marque des sa premiere apparition sur coup franc il compte en septembre selections avec les a'},\n",
       " {'en': 'nautics', 'fr': 'nautisme'},\n",
       " {'en': 'sericulture and cotton', 'fr': 'sericiculture et coton'},\n",
       " {'en': 'table of contents', 'fr': 'table des matieres'},\n",
       " {'en': 'metallurgy casting and forging',\n",
       "  'fr': 'metallurgie moulage et forgeage'},\n",
       " {'en': 'sulfur and saltpetre', 'fr': 'soufre et salpetre'},\n",
       " {'en': 'gunpowder weapons', 'fr': 'armes a poudre'},\n",
       " {'en': 'isbn needham joseph', 'fr': 'isbn needham joseph'},\n",
       " {'en': 'isbn', 'fr': 'isbn a verifier isbn invalide'},\n",
       " {'en': 'tiangong kaiwu', 'fr': 'utilisateur oimabe tiangong kaiwu'},\n",
       " {'en': 'famous balloonists', 'fr': 'aeronautes celebres'},\n",
       " {'en': 'cluster ballooning',\n",
       "  'fr': 'cluster ballooning ou litteralement ballon en grappe'},\n",
       " {'en': 'chicken adobo served with white rice',\n",
       "  'fr': 'adobo de poulet servi avec du riz blanc'},\n",
       " {'en': 'pork adobo cooked in a kawali',\n",
       "  'fr': 'adobo de porc cuit dans un kawali'},\n",
       " {'en': 'there are also regional variations',\n",
       "  'fr': 'il y a aussi des variations regionales'},\n",
       " {'en': 'in cavite mashed pork liver is added',\n",
       "  'fr': 'a cavite du foie de porc hache est ajoute'},\n",
       " {'en': 'designation and bridge rehabilitation',\n",
       "  'fr': 'appellation et reparation des ponts'},\n",
       " {'en': 'route description', 'fr': 'description'},\n",
       " {'en': 'classification', 'fr': 'types'},\n",
       " {'en': 'the fish is softer and smaller',\n",
       "  'fr': 'le poisson est plus mou et plus petit'},\n",
       " {'en': 'process', 'fr': 'production'},\n",
       " {'en': 'there are two phases for making pla ra',\n",
       "  'fr': 'deux etapes sont necessaires pour preparer le pla ra'},\n",
       " {'en': 'nutrition', 'fr': 'valeur nutritionnelle'},\n",
       " {'en': 'composition of pla ra', 'fr': 'composition du pla ra'},\n",
       " {'en': 'dishes', 'fr': 'service'},\n",
       " {'en': 'health issue', 'fr': 'probleme sanitaire'},\n",
       " {'en': 'bagoong can also be made from krill',\n",
       "  'fr': 'le bagoong peut aussi etre prepare a partir de krill'},\n",
       " {'en': 'bagoong isda and bagoong alamang',\n",
       "  'fr': 'bagoong isda et bagoong alamang'},\n",
       " {'en': 'political', 'fr': 'politique'},\n",
       " {'en': 'agriculturalism', 'fr': 'utilisateur assassas brouillon nongjia'},\n",
       " {'en': 'natural habitat', 'fr': 'habitat'},\n",
       " {'en': 'the real pleurotus sajor caju fr',\n",
       "  'fr': 'le vrai pleurotus sajor caju fr'},\n",
       " {'en': 'fries', 'fr': 'fries'},\n",
       " {'en': 'medical research', 'fr': 'recherches medicales'}]"
      ]
     },
     "execution_count": 14,
     "metadata": {},
     "output_type": "execute_result"
    }
   ],
   "source": [
    "data = [{'en': pair[0], 'fr': pair[1]} for pair in cleaned_pairs]\n",
    "data[:100]"
   ]
  },
  {
   "cell_type": "code",
   "execution_count": 16,
   "id": "07b1e52d-64a4-44e6-9da8-62d32a2ed289",
   "metadata": {},
   "outputs": [],
   "source": [
    "random.seed(seed)\n",
    "random.shuffle(data)"
   ]
  },
  {
   "cell_type": "code",
   "execution_count": 17,
   "id": "2fc12cc8-497c-423d-8983-80f876e9a06e",
   "metadata": {},
   "outputs": [],
   "source": [
    "# splittng data\n",
    "n = len(data)\n",
    "n_train = int(0.8*n)\n",
    "n_val = int(0.9*n)\n",
    "\n",
    "train_data = data[:n_train]\n",
    "val_data = data[n_train:n_val]\n",
    "test_data = data[n_val:]\n",
    "\n",
    "# convert to Huggingface dataset\n",
    "train_dataset = Dataset.from_list(train_data)\n",
    "val_dataset = Dataset.from_list(val_data)\n",
    "test_dataset = Dataset.from_list(test_data)\n",
    "\n",
    "# Create the DatasetDict\n",
    "dataset_dict = DatasetDict({\n",
    "    \"train\": train_dataset,\n",
    "    \"validation\": val_dataset,\n",
    "    \"test\": test_dataset\n",
    "})"
   ]
  },
  {
   "cell_type": "code",
   "execution_count": 18,
   "id": "9979ef23-6b66-4691-9bf0-ec40bb997cad",
   "metadata": {},
   "outputs": [
    {
     "data": {
      "text/plain": [
       "DatasetDict({\n",
       "    train: Dataset({\n",
       "        features: ['en', 'fr'],\n",
       "        num_rows: 110345\n",
       "    })\n",
       "    validation: Dataset({\n",
       "        features: ['en', 'fr'],\n",
       "        num_rows: 13793\n",
       "    })\n",
       "    test: Dataset({\n",
       "        features: ['en', 'fr'],\n",
       "        num_rows: 13794\n",
       "    })\n",
       "})"
      ]
     },
     "execution_count": 18,
     "metadata": {},
     "output_type": "execute_result"
    }
   ],
   "source": [
    "dataset_dict"
   ]
  },
  {
   "cell_type": "code",
   "execution_count": 19,
   "id": "d1935ebe-e295-42c6-bee2-9602e920b81f",
   "metadata": {},
   "outputs": [
    {
     "data": {
      "text/plain": [
       "{'en': 'main personal exhibitions',\n",
       " 'fr': 'principales expositions personnelles'}"
      ]
     },
     "execution_count": 19,
     "metadata": {},
     "output_type": "execute_result"
    }
   ],
   "source": [
    "train_dataset[0]"
   ]
  },
  {
   "cell_type": "code",
   "execution_count": 20,
   "id": "daf9b47d-9f45-40e7-96fb-fcb622490034",
   "metadata": {},
   "outputs": [],
   "source": [
    "en_nlp = spacy.load(\"en_core_web_sm\")\n",
    "fr_nlp = spacy.load(\"fr_core_news_sm\")"
   ]
  },
  {
   "cell_type": "code",
   "execution_count": 21,
   "id": "9d288c24-9e5d-41bc-8441-395eedd33361",
   "metadata": {},
   "outputs": [
    {
     "data": {
      "text/plain": [
       "['What', 'a', 'lovely', 'day', 'it', 'is', 'today', '!']"
      ]
     },
     "execution_count": 21,
     "metadata": {},
     "output_type": "execute_result"
    }
   ],
   "source": [
    "string = \"What a lovely day it is today!\"\n",
    "\n",
    "[token.text for token in en_nlp.tokenizer(string)]"
   ]
  },
  {
   "cell_type": "code",
   "execution_count": 22,
   "id": "05ae8750-8638-4c08-b352-4877982e4ba5",
   "metadata": {},
   "outputs": [],
   "source": [
    "def tokenize_example(example, en_nlp, fr_nlp, max_length, lower, sos_token, eos_token):\n",
    "    en_tokens = [token.text for token in en_nlp.tokenizer(example[\"en\"])][:max_length]\n",
    "    fr_tokens = [token.text for token in fr_nlp.tokenizer(example[\"fr\"])][:max_length]\n",
    "    if lower:\n",
    "        en_tokens = [token.lower() for token in en_tokens]\n",
    "        fr_tokens = [token.lower() for token in fr_tokens]\n",
    "    en_tokens = [sos_token] + en_tokens + [eos_token]\n",
    "    fr_tokens = [sos_token] + fr_tokens + [eos_token]\n",
    "    return {\"en_tokens\": en_tokens, \"fr_tokens\": fr_tokens}"
   ]
  },
  {
   "cell_type": "code",
   "execution_count": 23,
   "id": "ef42e644-a5d6-4e81-abe9-a1876b552a4b",
   "metadata": {},
   "outputs": [
    {
     "data": {
      "application/vnd.jupyter.widget-view+json": {
       "model_id": "152daaab73654d048a5be7d85d586a22",
       "version_major": 2,
       "version_minor": 0
      },
      "text/plain": [
       "Map:   0%|          | 0/110345 [00:00<?, ? examples/s]"
      ]
     },
     "metadata": {},
     "output_type": "display_data"
    },
    {
     "data": {
      "application/vnd.jupyter.widget-view+json": {
       "model_id": "47ef8384d6414c308517a430ff0d59c0",
       "version_major": 2,
       "version_minor": 0
      },
      "text/plain": [
       "Map:   0%|          | 0/13793 [00:00<?, ? examples/s]"
      ]
     },
     "metadata": {},
     "output_type": "display_data"
    },
    {
     "data": {
      "application/vnd.jupyter.widget-view+json": {
       "model_id": "d3d8275b1c5f4ba3918fbf74f7cfe2e7",
       "version_major": 2,
       "version_minor": 0
      },
      "text/plain": [
       "Map:   0%|          | 0/13794 [00:00<?, ? examples/s]"
      ]
     },
     "metadata": {},
     "output_type": "display_data"
    }
   ],
   "source": [
    "max_length = 40\n",
    "lower = True\n",
    "sos_token = \"<sos>\"\n",
    "eos_token = \"<eos>\"\n",
    "\n",
    "fn_kwargs = {\n",
    "    \"en_nlp\": en_nlp,\n",
    "    \"fr_nlp\": fr_nlp,\n",
    "    \"max_length\": max_length,\n",
    "    \"lower\": lower,\n",
    "    \"sos_token\": sos_token,\n",
    "    \"eos_token\": eos_token,\n",
    "}\n",
    "\n",
    "train_dataset = train_dataset.map(tokenize_example, fn_kwargs=fn_kwargs)\n",
    "val_dataset = val_dataset.map(tokenize_example, fn_kwargs=fn_kwargs)\n",
    "test_dataset = test_dataset.map(tokenize_example, fn_kwargs=fn_kwargs)"
   ]
  },
  {
   "cell_type": "code",
   "execution_count": 24,
   "id": "5ee1ab18-4420-4309-b4aa-1bf9bb494e63",
   "metadata": {
    "scrolled": true
   },
   "outputs": [
    {
     "data": {
      "text/plain": [
       "{'en': 'main personal exhibitions',\n",
       " 'fr': 'principales expositions personnelles',\n",
       " 'en_tokens': ['<sos>', 'main', 'personal', 'exhibitions', '<eos>'],\n",
       " 'fr_tokens': ['<sos>', 'principales', 'expositions', 'personnelles', '<eos>']}"
      ]
     },
     "execution_count": 24,
     "metadata": {},
     "output_type": "execute_result"
    }
   ],
   "source": [
    "train_dataset[0]"
   ]
  },
  {
   "cell_type": "code",
   "execution_count": 25,
   "id": "8b83189d-35d5-445c-8765-e16036f87535",
   "metadata": {},
   "outputs": [
    {
     "name": "stderr",
     "output_type": "stream",
     "text": [
      "/opt/anaconda3/envs/myenv/lib/python3.12/site-packages/torchtext/vocab/__init__.py:4: UserWarning: \n",
      "/!\\ IMPORTANT WARNING ABOUT TORCHTEXT STATUS /!\\ \n",
      "Torchtext is deprecated and the last released version will be 0.18 (this one). You can silence this warning by calling the following at the beginnign of your scripts: `import torchtext; torchtext.disable_torchtext_deprecation_warning()`\n",
      "  warnings.warn(torchtext._TORCHTEXT_DEPRECATION_MSG)\n",
      "/opt/anaconda3/envs/myenv/lib/python3.12/site-packages/torchtext/utils.py:4: UserWarning: \n",
      "/!\\ IMPORTANT WARNING ABOUT TORCHTEXT STATUS /!\\ \n",
      "Torchtext is deprecated and the last released version will be 0.18 (this one). You can silence this warning by calling the following at the beginnign of your scripts: `import torchtext; torchtext.disable_torchtext_deprecation_warning()`\n",
      "  warnings.warn(torchtext._TORCHTEXT_DEPRECATION_MSG)\n"
     ]
    }
   ],
   "source": [
    "from torchtext.vocab import build_vocab_from_iterator\n",
    "min_freq = 2\n",
    "unk_token = \"<unk>\"\n",
    "pad_token = \"<pad>\"\n",
    "\n",
    "special_tokens = [\n",
    "    unk_token,\n",
    "    pad_token,\n",
    "    sos_token,\n",
    "    eos_token,\n",
    "]\n",
    "\n",
    "en_vocab = build_vocab_from_iterator(\n",
    "    train_dataset[\"en_tokens\"],\n",
    "    min_freq=min_freq,\n",
    "    specials=special_tokens,\n",
    ")\n",
    "\n",
    "fr_vocab = build_vocab_from_iterator(\n",
    "    train_dataset[\"fr_tokens\"],\n",
    "    min_freq=min_freq,\n",
    "    specials=special_tokens,\n",
    ")"
   ]
  },
  {
   "cell_type": "code",
   "execution_count": 26,
   "id": "ad9fd9ed-837c-4ed0-aeb6-2550a803f0dd",
   "metadata": {},
   "outputs": [
    {
     "data": {
      "text/plain": [
       "['<unk>', '<pad>', '<sos>', '<eos>', 'the', 'in', 'of', 'and', 'was', 'a']"
      ]
     },
     "execution_count": 26,
     "metadata": {},
     "output_type": "execute_result"
    }
   ],
   "source": [
    "en_vocab.get_itos()[:10]"
   ]
  },
  {
   "cell_type": "code",
   "execution_count": 27,
   "id": "e1ee3a37-4998-48c4-a8af-133a030e8195",
   "metadata": {},
   "outputs": [
    {
     "data": {
      "text/plain": [
       "['<unk>', '<pad>', '<sos>', '<eos>', 'de', 'a', 'en', 'la', 'le', 'est']"
      ]
     },
     "execution_count": 27,
     "metadata": {},
     "output_type": "execute_result"
    }
   ],
   "source": [
    "fr_vocab.get_itos()[:10]"
   ]
  },
  {
   "cell_type": "code",
   "execution_count": 28,
   "id": "b28c4e21-22be-42fc-b36e-3c3fa5921776",
   "metadata": {},
   "outputs": [
    {
     "data": {
      "text/plain": [
       "4"
      ]
     },
     "execution_count": 28,
     "metadata": {},
     "output_type": "execute_result"
    }
   ],
   "source": [
    "en_vocab['the']"
   ]
  },
  {
   "cell_type": "code",
   "execution_count": 29,
   "id": "c5f14985-75d8-4c66-955f-3ade284de109",
   "metadata": {},
   "outputs": [
    {
     "data": {
      "text/plain": [
       "(22065, 27292)"
      ]
     },
     "execution_count": 29,
     "metadata": {},
     "output_type": "execute_result"
    }
   ],
   "source": [
    "len(en_vocab), len(fr_vocab)"
   ]
  },
  {
   "cell_type": "code",
   "execution_count": 30,
   "id": "d82ebb20-1056-41ce-8ea2-2338e59dce7b",
   "metadata": {},
   "outputs": [],
   "source": [
    "assert en_vocab[unk_token] == fr_vocab[unk_token]\n",
    "assert en_vocab[pad_token] == fr_vocab[pad_token]\n",
    "\n",
    "unk_index = en_vocab[unk_token]\n",
    "pad_index = en_vocab[pad_token]"
   ]
  },
  {
   "cell_type": "code",
   "execution_count": 31,
   "id": "f7e9a13f-be4c-478d-8bd4-edcbfb43b94d",
   "metadata": {},
   "outputs": [
    {
     "ename": "RuntimeError",
     "evalue": "Token The not found and default index is not set",
     "output_type": "error",
     "traceback": [
      "\u001b[0;31m---------------------------------------------------------------------------\u001b[0m",
      "\u001b[0;31mRuntimeError\u001b[0m                              Traceback (most recent call last)",
      "Cell \u001b[0;32mIn[31], line 1\u001b[0m\n\u001b[0;32m----> 1\u001b[0m en_vocab[\u001b[38;5;124m'\u001b[39m\u001b[38;5;124mThe\u001b[39m\u001b[38;5;124m'\u001b[39m]\n",
      "File \u001b[0;32m/opt/anaconda3/envs/myenv/lib/python3.12/site-packages/torchtext/vocab/vocab.py:65\u001b[0m, in \u001b[0;36mVocab.__getitem__\u001b[0;34m(self, token)\u001b[0m\n\u001b[1;32m     56\u001b[0m \u001b[38;5;129m@torch\u001b[39m\u001b[38;5;241m.\u001b[39mjit\u001b[38;5;241m.\u001b[39mexport\n\u001b[1;32m     57\u001b[0m \u001b[38;5;28;01mdef\u001b[39;00m \u001b[38;5;21m__getitem__\u001b[39m(\u001b[38;5;28mself\u001b[39m, token: \u001b[38;5;28mstr\u001b[39m) \u001b[38;5;241m-\u001b[39m\u001b[38;5;241m>\u001b[39m \u001b[38;5;28mint\u001b[39m:\n\u001b[1;32m     58\u001b[0m \u001b[38;5;250m    \u001b[39m\u001b[38;5;124mr\u001b[39m\u001b[38;5;124;03m\"\"\"\u001b[39;00m\n\u001b[1;32m     59\u001b[0m \u001b[38;5;124;03m    Args:\u001b[39;00m\n\u001b[1;32m     60\u001b[0m \u001b[38;5;124;03m        token: The token used to lookup the corresponding index.\u001b[39;00m\n\u001b[0;32m   (...)\u001b[0m\n\u001b[1;32m     63\u001b[0m \u001b[38;5;124;03m        The index corresponding to the associated token.\u001b[39;00m\n\u001b[1;32m     64\u001b[0m \u001b[38;5;124;03m    \"\"\"\u001b[39;00m\n\u001b[0;32m---> 65\u001b[0m     \u001b[38;5;28;01mreturn\u001b[39;00m \u001b[38;5;28mself\u001b[39m\u001b[38;5;241m.\u001b[39mvocab[token]\n",
      "\u001b[0;31mRuntimeError\u001b[0m: Token The not found and default index is not set"
     ]
    }
   ],
   "source": [
    "en_vocab['The']"
   ]
  },
  {
   "cell_type": "code",
   "execution_count": 32,
   "id": "0672db85-316b-49cc-9965-f521cf9e2774",
   "metadata": {},
   "outputs": [],
   "source": [
    "en_vocab.set_default_index(unk_index)\n",
    "fr_vocab.set_default_index(unk_index)"
   ]
  },
  {
   "cell_type": "code",
   "execution_count": 33,
   "id": "62037a77-2878-463d-ac24-2f9bbb808220",
   "metadata": {},
   "outputs": [
    {
     "data": {
      "text/plain": [
       "0"
      ]
     },
     "execution_count": 33,
     "metadata": {},
     "output_type": "execute_result"
    }
   ],
   "source": [
    "en_vocab['The']"
   ]
  },
  {
   "cell_type": "code",
   "execution_count": 34,
   "id": "78749614-4afe-4d39-a200-98f2b88735fb",
   "metadata": {},
   "outputs": [
    {
     "data": {
      "text/plain": [
       "'<unk>'"
      ]
     },
     "execution_count": 34,
     "metadata": {},
     "output_type": "execute_result"
    }
   ],
   "source": [
    "en_vocab.get_itos()[0]"
   ]
  },
  {
   "cell_type": "code",
   "execution_count": 35,
   "id": "e6fc597e-9efe-456a-9818-a19c0feab279",
   "metadata": {},
   "outputs": [
    {
     "data": {
      "text/plain": [
       "[44, 418, 11111, 2487, 621]"
      ]
     },
     "execution_count": 35,
     "metadata": {},
     "output_type": "execute_result"
    }
   ],
   "source": [
    "tokens = [\"i\", \"love\", \"watching\", \"crime\", \"shows\"]\n",
    "en_vocab.lookup_indices(tokens)"
   ]
  },
  {
   "cell_type": "code",
   "execution_count": 36,
   "id": "7efd029a-1822-4b51-be70-68a153625bc3",
   "metadata": {},
   "outputs": [
    {
     "data": {
      "text/plain": [
       "['i', 'love', 'watching', 'crime', 'shows']"
      ]
     },
     "execution_count": 36,
     "metadata": {},
     "output_type": "execute_result"
    }
   ],
   "source": [
    "en_vocab.lookup_tokens(en_vocab.lookup_indices(tokens))"
   ]
  },
  {
   "cell_type": "code",
   "execution_count": 37,
   "id": "6b4051b3-523e-4e0d-b3e3-778480a1fb63",
   "metadata": {},
   "outputs": [],
   "source": [
    "def numericalize_example(example, en_vocab, fr_vocab):\n",
    "    en_ids = en_vocab.lookup_indices(example[\"en_tokens\"])\n",
    "    fr_ids = fr_vocab.lookup_indices(example[\"fr_tokens\"])\n",
    "    return {\"en_ids\": en_ids, \"fr_ids\": fr_ids}"
   ]
  },
  {
   "cell_type": "code",
   "execution_count": 38,
   "id": "2259c4c9-c1a1-47d4-a8f3-43000c1d5edf",
   "metadata": {},
   "outputs": [
    {
     "data": {
      "application/vnd.jupyter.widget-view+json": {
       "model_id": "89b6ed8a2bcc499a83af43bd08ca71e9",
       "version_major": 2,
       "version_minor": 0
      },
      "text/plain": [
       "Map:   0%|          | 0/110345 [00:00<?, ? examples/s]"
      ]
     },
     "metadata": {},
     "output_type": "display_data"
    },
    {
     "data": {
      "application/vnd.jupyter.widget-view+json": {
       "model_id": "fb5c5ab3d9054511a5dbf027bb0d79bd",
       "version_major": 2,
       "version_minor": 0
      },
      "text/plain": [
       "Map:   0%|          | 0/13793 [00:00<?, ? examples/s]"
      ]
     },
     "metadata": {},
     "output_type": "display_data"
    },
    {
     "data": {
      "application/vnd.jupyter.widget-view+json": {
       "model_id": "07af30392427449d9206c0fdc5daf486",
       "version_major": 2,
       "version_minor": 0
      },
      "text/plain": [
       "Map:   0%|          | 0/13794 [00:00<?, ? examples/s]"
      ]
     },
     "metadata": {},
     "output_type": "display_data"
    }
   ],
   "source": [
    "fn_kwargs = {\"en_vocab\": en_vocab, \"fr_vocab\": fr_vocab}\n",
    "\n",
    "train_dataset = train_dataset.map(numericalize_example, fn_kwargs=fn_kwargs)\n",
    "val_dataset = val_dataset.map(numericalize_example, fn_kwargs=fn_kwargs)\n",
    "test_dataset = test_dataset.map(numericalize_example, fn_kwargs=fn_kwargs)"
   ]
  },
  {
   "cell_type": "code",
   "execution_count": 39,
   "id": "f0126392-63ea-48b4-a44c-b4460e95fb91",
   "metadata": {
    "scrolled": true
   },
   "outputs": [
    {
     "data": {
      "text/plain": [
       "{'en': 'main personal exhibitions',\n",
       " 'fr': 'principales expositions personnelles',\n",
       " 'en_tokens': ['<sos>', 'main', 'personal', 'exhibitions', '<eos>'],\n",
       " 'fr_tokens': ['<sos>', 'principales', 'expositions', 'personnelles', '<eos>'],\n",
       " 'en_ids': [2, 177, 200, 528, 3],\n",
       " 'fr_ids': [2, 430, 476, 1903, 3]}"
      ]
     },
     "execution_count": 39,
     "metadata": {},
     "output_type": "execute_result"
    }
   ],
   "source": [
    "train_dataset[0]"
   ]
  },
  {
   "cell_type": "code",
   "execution_count": 40,
   "id": "5472f0fa-ca58-49df-8225-a95feb78a872",
   "metadata": {},
   "outputs": [],
   "source": [
    "data_type = \"torch\"\n",
    "format_columns = [\"en_ids\", \"fr_ids\"]\n",
    "\n",
    "train_dataset = train_dataset.with_format(\n",
    "    type=data_type, columns=format_columns, output_all_columns=True\n",
    ")\n",
    "\n",
    "val_dataset = val_dataset.with_format(\n",
    "    type=data_type,\n",
    "    columns=format_columns,\n",
    "    output_all_columns=True,\n",
    ")\n",
    "\n",
    "test_dataset = test_dataset.with_format(\n",
    "    type=data_type,\n",
    "    columns=format_columns,\n",
    "    output_all_columns=True,\n",
    ")"
   ]
  },
  {
   "cell_type": "code",
   "execution_count": 41,
   "id": "c8a412cf-ae03-4b5e-8f91-5b19a5d82318",
   "metadata": {
    "scrolled": true
   },
   "outputs": [
    {
     "data": {
      "text/plain": [
       "{'en_ids': tensor([  2, 177, 200, 528,   3]),\n",
       " 'fr_ids': tensor([   2,  430,  476, 1903,    3]),\n",
       " 'en': 'main personal exhibitions',\n",
       " 'fr': 'principales expositions personnelles',\n",
       " 'en_tokens': ['<sos>', 'main', 'personal', 'exhibitions', '<eos>'],\n",
       " 'fr_tokens': ['<sos>', 'principales', 'expositions', 'personnelles', '<eos>']}"
      ]
     },
     "execution_count": 41,
     "metadata": {},
     "output_type": "execute_result"
    }
   ],
   "source": [
    "train_dataset[0]"
   ]
  },
  {
   "cell_type": "markdown",
   "id": "3bd1a6a4-9c12-4ef7-9479-fe8917f11ed4",
   "metadata": {},
   "source": [
    "### Dataloaders"
   ]
  },
  {
   "cell_type": "code",
   "execution_count": 42,
   "id": "11a0dc84-4302-4500-9c74-78e26189e5db",
   "metadata": {},
   "outputs": [],
   "source": [
    "def get_collate_fn(pad_index):\n",
    "    def collate_fn(batch):\n",
    "        batch_en_ids = [example[\"en_ids\"] for example in batch]\n",
    "        batch_fr_ids = [example[\"fr_ids\"] for example in batch]\n",
    "        en_lens = [example[\"en_ids\"].shape[0] for example in batch]\n",
    "        fr_lens = [example[\"fr_ids\"].shape[0] for example in batch]\n",
    "        batch_en_ids = nn.utils.rnn.pad_sequence(batch_en_ids, padding_value=pad_index)\n",
    "        batch_fr_ids = nn.utils.rnn.pad_sequence(batch_fr_ids, padding_value=pad_index)\n",
    "        batch = {\n",
    "            \"en_ids\": batch_en_ids,\n",
    "            \"fr_ids\": batch_fr_ids,\n",
    "            \"en_lens\": en_lens,\n",
    "            \"fr_lens\": fr_lens\n",
    "        }\n",
    "        return batch\n",
    "\n",
    "    return collate_fn"
   ]
  },
  {
   "cell_type": "code",
   "execution_count": 43,
   "id": "ba61c82b-6019-428a-92b6-23e775d323e4",
   "metadata": {},
   "outputs": [],
   "source": [
    "def get_data_loader(dataset, batch_size, pad_index, shuffle=False):\n",
    "    collate_fn = get_collate_fn(pad_index)\n",
    "    data_loader = torch.utils.data.DataLoader(\n",
    "        dataset=dataset,\n",
    "        batch_size=batch_size,\n",
    "        collate_fn=collate_fn,\n",
    "        shuffle=shuffle,\n",
    "    )\n",
    "    return data_loader"
   ]
  },
  {
   "cell_type": "code",
   "execution_count": 44,
   "id": "d37c284b-467d-4963-8535-8848023f4eb5",
   "metadata": {},
   "outputs": [],
   "source": [
    "batch_size = 128\n",
    "\n",
    "train_data_loader = get_data_loader(train_dataset, batch_size, pad_index, shuffle=True)\n",
    "valid_data_loader = get_data_loader(val_dataset, batch_size, pad_index)\n",
    "test_data_loader = get_data_loader(test_dataset, batch_size, pad_index)"
   ]
  },
  {
   "cell_type": "code",
   "execution_count": 45,
   "id": "c7382b22-5517-4dd8-96e5-b613d2736f7a",
   "metadata": {},
   "outputs": [
    {
     "data": {
      "text/plain": [
       "108"
      ]
     },
     "execution_count": 45,
     "metadata": {},
     "output_type": "execute_result"
    }
   ],
   "source": [
    "len(valid_data_loader)"
   ]
  },
  {
   "cell_type": "code",
   "execution_count": 46,
   "id": "15132e3e-6ec4-4ee3-98da-380436ecee87",
   "metadata": {},
   "outputs": [
    {
     "data": {
      "text/plain": [
       "108"
      ]
     },
     "execution_count": 46,
     "metadata": {},
     "output_type": "execute_result"
    }
   ],
   "source": [
    "len(test_data_loader)"
   ]
  },
  {
   "cell_type": "code",
   "execution_count": 141,
   "id": "1cb4f4cb-2793-4f88-b6ae-cdaf2b985326",
   "metadata": {},
   "outputs": [
    {
     "data": {
      "text/plain": [
       "863"
      ]
     },
     "execution_count": 141,
     "metadata": {},
     "output_type": "execute_result"
    }
   ],
   "source": [
    "len(train_data_loader)"
   ]
  },
  {
   "cell_type": "code",
   "execution_count": 142,
   "id": "4eef40ab-3a7f-4e65-a30e-5920e2108fbd",
   "metadata": {},
   "outputs": [
    {
     "name": "stdout",
     "output_type": "stream",
     "text": [
      "{'en_ids': tensor([[    2,     2,     2,  ...,     2,     2,     2],\n",
      "        [ 3002,   188,    75,  ...,     0,     4,     9],\n",
      "        [  147, 12607,     3,  ...,     3,  6418,  2337],\n",
      "        ...,\n",
      "        [    1,     1,     1,  ...,     1,     1,     1],\n",
      "        [    1,     1,     1,  ...,     1,     1,     1],\n",
      "        [    1,     1,     1,  ...,     1,     1,     1]]), 'fr_ids': tensor([[    2,     2,     2,  ...,     2,     2,     2],\n",
      "        [24001,   441,    80,  ..., 18660,  2715,    20],\n",
      "        [    3, 12172,   212,  ...,    11, 15423,   226],\n",
      "        ...,\n",
      "        [    1,     1,     1,  ...,     1,     1,     1],\n",
      "        [    1,     1,     1,  ...,     1,     1,     1],\n",
      "        [    1,     1,     1,  ...,     1,     1,     1]]), 'en_lens': [5, 4, 3, 5, 3, 3, 9, 3, 8, 9, 7, 5, 6, 7, 8, 4, 3, 3, 4, 11, 3, 8, 5, 8, 4, 7, 8, 5, 4, 6, 7, 7, 4, 6, 5, 7, 8, 6, 9, 8, 7, 4, 8, 5, 7, 3, 6, 4, 5, 5, 4, 6, 4, 9, 9, 7, 6, 9, 8, 6, 5, 9, 9, 12, 3, 8, 5, 4, 5, 4, 3, 4, 8, 3, 6, 4, 7, 4, 4, 11, 7, 4, 6, 9, 8, 8, 9, 4, 6, 11, 7, 6, 6, 4, 3, 10, 9, 4, 7, 9, 7, 9, 5, 7, 7, 4, 6, 6, 8, 10, 3, 5, 7, 6, 9, 4, 10, 5, 10, 7, 9, 4, 11, 3, 10, 3, 8, 7], 'fr_lens': [3, 4, 4, 8, 3, 3, 10, 5, 8, 11, 7, 6, 6, 4, 4, 4, 5, 6, 5, 13, 3, 9, 7, 9, 4, 8, 19, 7, 3, 4, 7, 9, 3, 7, 5, 10, 10, 5, 9, 8, 9, 6, 10, 4, 5, 6, 3, 4, 7, 7, 4, 4, 4, 4, 10, 7, 12, 42, 2, 7, 4, 12, 15, 11, 9, 11, 3, 5, 7, 3, 2, 4, 8, 3, 8, 4, 11, 5, 4, 11, 7, 3, 3, 9, 9, 14, 6, 5, 8, 11, 7, 8, 7, 5, 3, 10, 5, 6, 7, 10, 7, 9, 5, 9, 2, 7, 6, 7, 12, 10, 3, 5, 7, 10, 9, 3, 11, 5, 42, 9, 10, 7, 11, 3, 11, 30, 11, 8]}\n"
     ]
    }
   ],
   "source": [
    "for batch in train_data_loader:\n",
    "    print(batch)\n",
    "    break"
   ]
  },
  {
   "cell_type": "markdown",
   "id": "5bafc0aa-8ed6-4e48-bb74-c67c1c3b8f48",
   "metadata": {},
   "source": [
    "### Model"
   ]
  },
  {
   "cell_type": "code",
   "execution_count": 48,
   "id": "d2cd78b8-6e7a-4a03-b50f-db99b4b020d7",
   "metadata": {},
   "outputs": [],
   "source": [
    "class Encoder(nn.Module):\n",
    "    def __init__(self, input_dim, embedding_dim, hidden_dim, n_layers, dropout):\n",
    "        super().__init__()\n",
    "        self.hidden_dim = hidden_dim\n",
    "        self.n_layers = n_layers\n",
    "        self.embedding = nn.Embedding(input_dim, embedding_dim)\n",
    "        self.rnn = nn.LSTM(embedding_dim, hidden_dim, n_layers, dropout=dropout)\n",
    "        self.dropout = nn.Dropout(dropout)\n",
    "\n",
    "    def forward(self, src, src_lens):\n",
    "        # src = [src length, batch size]\n",
    "        embedded = self.dropout(self.embedding(src))\n",
    "        # embedded = [src length, batch size, embedding dim]\n",
    "        packed = torch.nn.utils.rnn.pack_padded_sequence(embedded, np.array(src_lens), enforce_sorted=False, batch_first=False)\n",
    "        packed_outputs, (hidden, cell) = self.rnn(packed)\n",
    "        # outputs, (hidden, cell) = self.rnn(embedded)\n",
    "        # outputs = [src length, batch size, hidden dim * n directions]\n",
    "        # hidden = [n layers * n directions, batch size, hidden dim]\n",
    "        # cell = [n layers * n directions, batch size, hidden dim]\n",
    "        # outputs are always from the top hidden layer\n",
    "        return hidden, cell"
   ]
  },
  {
   "cell_type": "code",
   "execution_count": 49,
   "id": "6ec6bd65-52ad-4248-8d79-1437d807b8f9",
   "metadata": {},
   "outputs": [],
   "source": [
    "class Decoder(nn.Module):\n",
    "    def __init__(self, output_dim, embedding_dim, hidden_dim, n_layers, dropout):\n",
    "        super().__init__()\n",
    "        self.output_dim = output_dim\n",
    "        self.hidden_dim = hidden_dim\n",
    "        self.n_layers = n_layers\n",
    "        self.embedding = nn.Embedding(output_dim, embedding_dim)\n",
    "        self.rnn = nn.LSTM(embedding_dim, hidden_dim, n_layers, dropout=dropout)\n",
    "        self.fc_out = nn.Linear(hidden_dim, output_dim)\n",
    "        self.dropout = nn.Dropout(dropout)\n",
    "\n",
    "    def forward(self, input, hidden, cell):\n",
    "        # input = [batch size]\n",
    "        # hidden = [n layers * n directions, batch size, hidden dim]\n",
    "        # cell = [n layers * n directions, batch size, hidden dim]\n",
    "        # n directions in the decoder will both always be 1, therefore:\n",
    "        # hidden = [n layers, batch size, hidden dim]\n",
    "        # context = [n layers, batch size, hidden dim]\n",
    "        input = input.unsqueeze(0)\n",
    "        # input = [1, batch size]\n",
    "        embedded = self.dropout(self.embedding(input))\n",
    "        # embedded = [1, batch size, embedding dim]\n",
    "        output, (hidden, cell) = self.rnn(embedded, (hidden, cell))\n",
    "        # output = [seq length, batch size, hidden dim * n directions]\n",
    "        # hidden = [n layers * n directions, batch size, hidden dim]\n",
    "        # cell = [n layers * n directions, batch size, hidden dim]\n",
    "        # seq length and n directions will always be 1 in this decoder, therefore:\n",
    "        # output = [1, batch size, hidden dim]\n",
    "        # hidden = [n layers, batch size, hidden dim]\n",
    "        # cell = [n layers, batch size, hidden dim]\n",
    "        prediction = self.fc_out(output.squeeze(0))\n",
    "        # prediction = [batch size, output dim]\n",
    "        return prediction, hidden, cell"
   ]
  },
  {
   "cell_type": "code",
   "execution_count": 50,
   "id": "aadbceed-85fc-4101-925a-b8683f6ed8a5",
   "metadata": {},
   "outputs": [],
   "source": [
    "class Seq2Seq(nn.Module):\n",
    "    def __init__(self, encoder, decoder, device):\n",
    "        super().__init__()\n",
    "        self.encoder = encoder\n",
    "        self.decoder = decoder\n",
    "        self.device = device\n",
    "        assert (\n",
    "            encoder.hidden_dim == decoder.hidden_dim\n",
    "        ), \"Hidden dimensions of encoder and decoder must be equal!\"\n",
    "        assert (\n",
    "            encoder.n_layers == decoder.n_layers\n",
    "        ), \"Encoder and decoder must have equal number of layers!\"\n",
    "\n",
    "    def forward(self, src, src_lens, trg, trg_lens, teacher_forcing_ratio):\n",
    "        # src = [src length, batch size]\n",
    "        # trg = [trg length, batch size]\n",
    "        # teacher_forcing_ratio is probability to use teacher forcing\n",
    "        # e.g. if teacher_forcing_ratio is 0.75 we use ground-truth inputs 75% of the time\n",
    "        batch_size = trg.shape[1]\n",
    "        trg_length = trg.shape[0]\n",
    "        trg_vocab_size = self.decoder.output_dim\n",
    "        # tensor to store decoder outputs\n",
    "        outputs = torch.zeros(trg_length, batch_size, trg_vocab_size).to(self.device)\n",
    "        # last hidden state of the encoder is used as the initial hidden state of the decoder\n",
    "        hidden, cell = self.encoder(src, src_lens)\n",
    "        # hidden = [n layers * n directions, batch size, hidden dim]\n",
    "        # cell = [n layers * n directions, batch size, hidden dim]\n",
    "        # first input to the decoder is the <sos> tokens\n",
    "        input = trg[0, :]\n",
    "        # input = [batch size]\n",
    "        for t in range(1, trg_length):\n",
    "            # insert input token embedding, previous hidden and previous cell states\n",
    "            # receive output tensor (predictions) and new hidden and cell states\n",
    "            output, hidden, cell = self.decoder(input, hidden, cell)\n",
    "            # output = [batch size, output dim]\n",
    "            # hidden = [n layers, batch size, hidden dim]\n",
    "            # cell = [n layers, batch size, hidden dim]\n",
    "            # place predictions in a tensor holding predictions for each token\n",
    "            outputs[t] = output\n",
    "            # decide if we are going to use teacher forcing or not\n",
    "            teacher_force = random.random() < teacher_forcing_ratio\n",
    "            # get the highest predicted token from our predictions\n",
    "            top1 = output.argmax(1)\n",
    "            # if teacher forcing, use actual next token as next input\n",
    "            # if not, use predicted token\n",
    "            input = trg[t] if teacher_force else top1\n",
    "            # input = [batch size]\n",
    "        return outputs"
   ]
  },
  {
   "cell_type": "markdown",
   "id": "2689f030-ac73-4f1e-b234-7c08a04c6a13",
   "metadata": {},
   "source": [
    "### Training"
   ]
  },
  {
   "cell_type": "code",
   "execution_count": 51,
   "id": "b37c761b-ae7e-4e8c-b674-972407363db9",
   "metadata": {},
   "outputs": [],
   "source": [
    "input_dim = len(fr_vocab)\n",
    "output_dim = len(en_vocab)\n",
    "# the 2 embedding dims were 256 with tatoeba\n",
    "encoder_embedding_dim = 512\n",
    "decoder_embedding_dim = 512\n",
    "hidden_dim = 512\n",
    "# layer was 2 with tatoeba\n",
    "n_layers = 4\n",
    "encoder_dropout = 0.5\n",
    "decoder_dropout = 0.5\n",
    "# device = torch.device(\"cuda\" if torch.cuda.is_available() else \"cpu\")\n",
    "if torch.backends.mps.is_available():\n",
    "    device = torch.device(\"mps\")\n",
    "elif torch.cuda.is_available():\n",
    "    device = torch.device(\"cuda\")\n",
    "else:\n",
    "    device = torch.device(\"cpu\")\n",
    "\n",
    "encoder = Encoder(\n",
    "    input_dim,\n",
    "    encoder_embedding_dim,\n",
    "    hidden_dim,\n",
    "    n_layers,\n",
    "    encoder_dropout,\n",
    ")\n",
    "\n",
    "decoder = Decoder(\n",
    "    output_dim,\n",
    "    decoder_embedding_dim,\n",
    "    hidden_dim,\n",
    "    n_layers,\n",
    "    decoder_dropout,\n",
    ")\n",
    "\n",
    "model = Seq2Seq(encoder, decoder, device).to(device)"
   ]
  },
  {
   "cell_type": "code",
   "execution_count": 52,
   "id": "f6e9ce29-f95b-4df3-b40e-2cea2e665fbc",
   "metadata": {},
   "outputs": [
    {
     "data": {
      "text/plain": [
       "(27292, 22065)"
      ]
     },
     "execution_count": 52,
     "metadata": {},
     "output_type": "execute_result"
    }
   ],
   "source": [
    "input_dim, output_dim"
   ]
  },
  {
   "cell_type": "code",
   "execution_count": 53,
   "id": "aad77bee-231e-4a58-aff0-2e2dc55f40f2",
   "metadata": {},
   "outputs": [
    {
     "data": {
      "text/plain": [
       "Seq2Seq(\n",
       "  (encoder): Encoder(\n",
       "    (embedding): Embedding(27292, 512)\n",
       "    (rnn): LSTM(512, 512, num_layers=4, dropout=0.5)\n",
       "    (dropout): Dropout(p=0.5, inplace=False)\n",
       "  )\n",
       "  (decoder): Decoder(\n",
       "    (embedding): Embedding(22065, 512)\n",
       "    (rnn): LSTM(512, 512, num_layers=4, dropout=0.5)\n",
       "    (fc_out): Linear(in_features=512, out_features=22065, bias=True)\n",
       "    (dropout): Dropout(p=0.5, inplace=False)\n",
       "  )\n",
       ")"
      ]
     },
     "execution_count": 53,
     "metadata": {},
     "output_type": "execute_result"
    }
   ],
   "source": [
    "def init_weights(m):\n",
    "    for name, param in m.named_parameters():\n",
    "        nn.init.uniform_(param.data, -0.08, 0.08)\n",
    "\n",
    "\n",
    "model.apply(init_weights)"
   ]
  },
  {
   "cell_type": "code",
   "execution_count": 54,
   "id": "6c26f1d8-c966-464c-8341-ea335be4c01f",
   "metadata": {},
   "outputs": [
    {
     "name": "stdout",
     "output_type": "stream",
     "text": [
      "The model has 53,400,113 trainable parameters\n"
     ]
    }
   ],
   "source": [
    "def count_parameters(model):\n",
    "    return sum(p.numel() for p in model.parameters() if p.requires_grad)\n",
    "\n",
    "\n",
    "print(f\"The model has {count_parameters(model):,} trainable parameters\")"
   ]
  },
  {
   "cell_type": "code",
   "execution_count": 55,
   "id": "97c50989-40e5-4d91-be13-d2449961d6ea",
   "metadata": {},
   "outputs": [],
   "source": [
    "optimizer = optim.Adam(model.parameters(), lr=0.0001)\n",
    "criterion = nn.CrossEntropyLoss(ignore_index=pad_index)\n",
    "# scheduler = optim.lr_scheduler.ExponentialLR(optimizer, gamma=0.9)"
   ]
  },
  {
   "cell_type": "code",
   "execution_count": 56,
   "id": "a6977cfc-e8b5-4394-9e3a-68e3465a4eb3",
   "metadata": {},
   "outputs": [],
   "source": [
    "def train_fn(\n",
    "    model, data_loader, optimizer, criterion, clip, teacher_forcing_ratio, device\n",
    "):\n",
    "    model.train()\n",
    "    epoch_loss = 0\n",
    "    for i, batch in enumerate(data_loader):\n",
    "        src = batch[\"fr_ids\"].to(device)\n",
    "        src_lens = batch[\"fr_lens\"]\n",
    "        trg = batch[\"en_ids\"].to(device)\n",
    "        trg_lens = batch[\"en_lens\"]\n",
    "        # src = [src length, batch size]\n",
    "        # trg = [trg length, batch size]\n",
    "        optimizer.zero_grad()\n",
    "        output = model(src, src_lens, trg, trg_lens, teacher_forcing_ratio)\n",
    "        # output = [trg length, batch size, trg vocab size]\n",
    "        output_dim = output.shape[-1]\n",
    "        output = output[1:].view(-1, output_dim)\n",
    "        # output = [(trg length - 1) * batch size, trg vocab size]\n",
    "        trg = trg[1:].view(-1)\n",
    "        # trg = [(trg length - 1) * batch size]\n",
    "        loss = criterion(output, trg)\n",
    "        loss.backward()\n",
    "        torch.nn.utils.clip_grad_norm_(model.parameters(), clip)\n",
    "        optimizer.step()\n",
    "        # scheduler.step()\n",
    "        epoch_loss += loss.item()\n",
    "    return epoch_loss / len(data_loader)"
   ]
  },
  {
   "cell_type": "code",
   "execution_count": 57,
   "id": "e475dff0-21fb-489a-91ff-e81aba19719d",
   "metadata": {},
   "outputs": [],
   "source": [
    "def evaluate_fn(model, data_loader, criterion, device):\n",
    "    model.eval()\n",
    "    epoch_loss = 0\n",
    "    with torch.no_grad():\n",
    "        for i, batch in enumerate(data_loader):\n",
    "            src = batch[\"fr_ids\"].to(device)\n",
    "            src_lens = batch[\"fr_lens\"]\n",
    "            trg = batch[\"en_ids\"].to(device)\n",
    "            trg_lens = batch[\"en_lens\"]\n",
    "            # src = [src length, batch size]\n",
    "            # trg = [trg length, batch size]\n",
    "            output = model(src, src_lens, trg, trg_lens, 0)  # turn off teacher forcing\n",
    "            # output = [trg length, batch size, trg vocab size]\n",
    "            output_dim = output.shape[-1]\n",
    "            output = output[1:].view(-1, output_dim)\n",
    "            # output = [(trg length - 1) * batch size, trg vocab size]\n",
    "            trg = trg[1:].view(-1)\n",
    "            # trg = [(trg length - 1) * batch size]\n",
    "            loss = criterion(output, trg)\n",
    "            epoch_loss += loss.item()\n",
    "    return epoch_loss / len(data_loader)"
   ]
  },
  {
   "cell_type": "code",
   "execution_count": null,
   "id": "7c0aa914-961b-433f-814f-b9970fc12764",
   "metadata": {},
   "outputs": [
    {
     "name": "stdout",
     "output_type": "stream",
     "text": [
      "Directory '../models/wiki/2024-12-02' created successfully.\n"
     ]
    },
    {
     "name": "stderr",
     "output_type": "stream",
     "text": [
      "  5%|███▍                                                                | 1/20 [16:08<5:06:48, 968.87s/it]"
     ]
    },
    {
     "name": "stdout",
     "output_type": "stream",
     "text": [
      "\tTrain Loss:   6.326 | Train PPL: 558.728\n",
      "\tValid Loss:   5.707 | Valid PPL: 301.117\n"
     ]
    },
    {
     "name": "stderr",
     "output_type": "stream",
     "text": [
      " 10%|██████▊                                                             | 2/20 [31:47<4:45:20, 951.13s/it]"
     ]
    },
    {
     "name": "stdout",
     "output_type": "stream",
     "text": [
      "\tTrain Loss:   5.847 | Train PPL: 346.039\n",
      "\tValid Loss:   5.515 | Valid PPL: 248.363\n"
     ]
    },
    {
     "name": "stderr",
     "output_type": "stream",
     "text": [
      " 15%|██████████▏                                                         | 3/20 [47:32<4:28:38, 948.17s/it]"
     ]
    },
    {
     "name": "stdout",
     "output_type": "stream",
     "text": [
      "\tTrain Loss:   5.632 | Train PPL: 279.270\n",
      "\tValid Loss:   5.339 | Valid PPL: 208.238\n"
     ]
    },
    {
     "name": "stderr",
     "output_type": "stream",
     "text": [
      " 20%|█████████████▏                                                    | 4/20 [1:03:11<4:11:55, 944.70s/it]"
     ]
    },
    {
     "name": "stdout",
     "output_type": "stream",
     "text": [
      "\tTrain Loss:   5.431 | Train PPL: 228.308\n",
      "\tValid Loss:   5.203 | Valid PPL: 181.807\n"
     ]
    },
    {
     "name": "stderr",
     "output_type": "stream",
     "text": [
      " 25%|████████████████▌                                                 | 5/20 [1:19:32<3:59:27, 957.82s/it]"
     ]
    },
    {
     "name": "stdout",
     "output_type": "stream",
     "text": [
      "\tTrain Loss:   5.264 | Train PPL: 193.296\n",
      "\tValid Loss:   5.087 | Valid PPL: 161.845\n"
     ]
    },
    {
     "name": "stderr",
     "output_type": "stream",
     "text": [
      " 30%|███████████████████▌                                             | 6/20 [1:37:57<3:55:10, 1007.93s/it]"
     ]
    },
    {
     "name": "stdout",
     "output_type": "stream",
     "text": [
      "\tTrain Loss:   5.122 | Train PPL: 167.732\n",
      "\tValid Loss:   5.000 | Valid PPL: 148.451\n"
     ]
    },
    {
     "name": "stderr",
     "output_type": "stream",
     "text": [
      " 35%|██████████████████████▊                                          | 7/20 [1:58:44<3:55:19, 1086.10s/it]"
     ]
    },
    {
     "name": "stdout",
     "output_type": "stream",
     "text": [
      "\tTrain Loss:   4.996 | Train PPL: 147.828\n",
      "\tValid Loss:   4.918 | Valid PPL: 136.786\n"
     ]
    },
    {
     "name": "stderr",
     "output_type": "stream",
     "text": [
      " 40%|██████████████████████████                                       | 8/20 [2:19:16<3:46:30, 1132.50s/it]"
     ]
    },
    {
     "name": "stdout",
     "output_type": "stream",
     "text": [
      "\tTrain Loss:   4.882 | Train PPL: 131.951\n",
      "\tValid Loss:   4.857 | Valid PPL: 128.681\n"
     ]
    },
    {
     "name": "stderr",
     "output_type": "stream",
     "text": [
      " 45%|█████████████████████████████▎                                   | 9/20 [2:40:16<3:34:54, 1172.19s/it]"
     ]
    },
    {
     "name": "stdout",
     "output_type": "stream",
     "text": [
      "\tTrain Loss:   4.779 | Train PPL: 118.999\n",
      "\tValid Loss:   4.803 | Valid PPL: 121.908\n"
     ]
    },
    {
     "name": "stderr",
     "output_type": "stream",
     "text": [
      " 50%|████████████████████████████████                                | 10/20 [3:01:36<3:20:56, 1205.68s/it]"
     ]
    },
    {
     "name": "stdout",
     "output_type": "stream",
     "text": [
      "\tTrain Loss:   4.680 | Train PPL: 107.717\n",
      "\tValid Loss:   4.754 | Valid PPL: 116.055\n"
     ]
    },
    {
     "name": "stderr",
     "output_type": "stream",
     "text": [
      " 55%|███████████████████████████████████▏                            | 11/20 [3:23:12<3:04:57, 1233.06s/it]"
     ]
    },
    {
     "name": "stdout",
     "output_type": "stream",
     "text": [
      "\tTrain Loss:   4.587 | Train PPL:  98.163\n",
      "\tValid Loss:   4.700 | Valid PPL: 109.994\n"
     ]
    },
    {
     "name": "stderr",
     "output_type": "stream",
     "text": [
      " 60%|██████████████████████████████████████▍                         | 12/20 [3:45:07<2:47:44, 1258.07s/it]"
     ]
    },
    {
     "name": "stdout",
     "output_type": "stream",
     "text": [
      "\tTrain Loss:   4.501 | Train PPL:  90.063\n",
      "\tValid Loss:   4.658 | Valid PPL: 105.425\n"
     ]
    },
    {
     "name": "stderr",
     "output_type": "stream",
     "text": [
      " 65%|█████████████████████████████████████████▌                      | 13/20 [4:07:24<2:29:34, 1282.13s/it]"
     ]
    },
    {
     "name": "stdout",
     "output_type": "stream",
     "text": [
      "\tTrain Loss:   4.422 | Train PPL:  83.255\n",
      "\tValid Loss:   4.625 | Valid PPL: 102.034\n"
     ]
    },
    {
     "name": "stderr",
     "output_type": "stream",
     "text": [
      " 70%|████████████████████████████████████████████▊                   | 14/20 [4:29:42<2:09:54, 1299.03s/it]"
     ]
    },
    {
     "name": "stdout",
     "output_type": "stream",
     "text": [
      "\tTrain Loss:   4.345 | Train PPL:  77.129\n",
      "\tValid Loss:   4.594 | Valid PPL:  98.928\n"
     ]
    },
    {
     "name": "stderr",
     "output_type": "stream",
     "text": [
      " 75%|████████████████████████████████████████████████                | 15/20 [4:52:16<1:49:38, 1315.61s/it]"
     ]
    },
    {
     "name": "stdout",
     "output_type": "stream",
     "text": [
      "\tTrain Loss:   4.273 | Train PPL:  71.756\n",
      "\tValid Loss:   4.560 | Valid PPL:  95.590\n"
     ]
    },
    {
     "name": "stderr",
     "output_type": "stream",
     "text": [
      " 80%|███████████████████████████████████████████████████▏            | 16/20 [5:15:03<1:28:43, 1330.99s/it]"
     ]
    },
    {
     "name": "stdout",
     "output_type": "stream",
     "text": [
      "\tTrain Loss:   4.201 | Train PPL:  66.759\n",
      "\tValid Loss:   4.532 | Valid PPL:  92.935\n"
     ]
    },
    {
     "name": "stderr",
     "output_type": "stream",
     "text": [
      " 85%|██████████████████████████████████████████████████████▍         | 17/20 [5:38:22<1:07:34, 1351.38s/it]"
     ]
    },
    {
     "name": "stdout",
     "output_type": "stream",
     "text": [
      "\tTrain Loss:   4.136 | Train PPL:  62.533\n",
      "\tValid Loss:   4.515 | Valid PPL:  91.374\n"
     ]
    }
   ],
   "source": [
    "n_epochs = 20\n",
    "clip = 1.0\n",
    "teacher_forcing_ratio = 0.5\n",
    "\n",
    "best_valid_loss = float(\"inf\")\n",
    "\n",
    "date = datetime.today().strftime('%Y-%m-%d')\n",
    "model_dir = f'../models/wiki/{date}'\n",
    "# Create the directory\n",
    "try:\n",
    "    os.mkdir(model_dir)\n",
    "    print(f\"Directory '{model_dir}' created successfully.\")\n",
    "except FileExistsError:\n",
    "    print(f\"Directory '{model_dir}' already exists.\")\n",
    "\n",
    "train_lossi = []\n",
    "val_lossi = []  \n",
    "\n",
    "for epoch in tqdm.tqdm(range(n_epochs)):\n",
    "    train_loss = train_fn(\n",
    "        model,\n",
    "        train_data_loader,\n",
    "        optimizer,\n",
    "        criterion,\n",
    "        clip,\n",
    "        teacher_forcing_ratio,\n",
    "        device,\n",
    "    )\n",
    "    valid_loss = evaluate_fn(\n",
    "        model,\n",
    "        valid_data_loader,\n",
    "        criterion,\n",
    "        device,\n",
    "    )\n",
    "\n",
    "    train_lossi.append(train_loss)\n",
    "    val_lossi.append(valid_loss)\n",
    "    \n",
    "    if valid_loss < best_valid_loss:\n",
    "        best_valid_loss = valid_loss\n",
    "        torch.save(model.state_dict(), os.path.join(model_dir, f'mt_wiki_{train_loss:7.2f}_{valid_loss:7.2f}.pt'))\n",
    "    print(f\"\\tTrain Loss: {train_loss:7.3f} | Train PPL: {np.exp(train_loss):7.3f}\")\n",
    "    print(f\"\\tValid Loss: {valid_loss:7.3f} | Valid PPL: {np.exp(valid_loss):7.3f}\")"
   ]
  },
  {
   "cell_type": "code",
   "execution_count": 60,
   "id": "114951a6-4dcd-49cf-bcb4-77d5dce887fa",
   "metadata": {},
   "outputs": [
    {
     "name": "stdout",
     "output_type": "stream",
     "text": [
      "Directory '../models/wiki/2024-12-03' already exists.\n"
     ]
    },
    {
     "name": "stderr",
     "output_type": "stream",
     "text": [
      " 20%|██████████████▏                                                        | 1/5 [06:01<24:07, 361.94s/it]"
     ]
    },
    {
     "name": "stdout",
     "output_type": "stream",
     "text": [
      "\tTrain Loss:   4.072 | Train PPL:  58.689\n",
      "\tValid Loss:   4.498 | Valid PPL:  89.809\n"
     ]
    },
    {
     "name": "stderr",
     "output_type": "stream",
     "text": [
      " 40%|████████████████████████████▍                                          | 2/5 [12:17<18:29, 369.71s/it]"
     ]
    },
    {
     "name": "stdout",
     "output_type": "stream",
     "text": [
      "\tTrain Loss:   4.006 | Train PPL:  54.913\n",
      "\tValid Loss:   4.483 | Valid PPL:  88.519\n"
     ]
    },
    {
     "name": "stderr",
     "output_type": "stream",
     "text": [
      " 60%|██████████████████████████████████████████▌                            | 3/5 [19:12<13:01, 390.76s/it]"
     ]
    },
    {
     "name": "stdout",
     "output_type": "stream",
     "text": [
      "\tTrain Loss:   3.941 | Train PPL:  51.459\n",
      "\tValid Loss:   4.463 | Valid PPL:  86.729\n"
     ]
    },
    {
     "name": "stderr",
     "output_type": "stream",
     "text": [
      " 80%|████████████████████████████████████████████████████████▊              | 4/5 [26:41<06:53, 413.50s/it]"
     ]
    },
    {
     "name": "stdout",
     "output_type": "stream",
     "text": [
      "\tTrain Loss:   3.880 | Train PPL:  48.409\n",
      "\tValid Loss:   4.447 | Valid PPL:  85.401\n"
     ]
    },
    {
     "name": "stderr",
     "output_type": "stream",
     "text": [
      "100%|███████████████████████████████████████████████████████████████████████| 5/5 [35:24<00:00, 424.95s/it]"
     ]
    },
    {
     "name": "stdout",
     "output_type": "stream",
     "text": [
      "\tTrain Loss:   3.823 | Train PPL:  45.733\n",
      "\tValid Loss:   4.437 | Valid PPL:  84.522\n"
     ]
    },
    {
     "name": "stderr",
     "output_type": "stream",
     "text": [
      "\n"
     ]
    }
   ],
   "source": [
    "# continue to train after it stopped randomly\n",
    "model.load_state_dict(torch.load(os.path.join(f'../models/wiki/2024-12-02/', f'mt_wiki.pt')))\n",
    "\n",
    "date = datetime.today().strftime('%Y-%m-%d')\n",
    "model_dir = f'../models/wiki/{date}'\n",
    "# Create the directory\n",
    "try:\n",
    "    os.mkdir(model_dir)\n",
    "    print(f\"Directory '{model_dir}' created successfully.\")\n",
    "except FileExistsError:\n",
    "    print(f\"Directory '{model_dir}' already exists.\")\n",
    "\n",
    "clip = 1.0\n",
    "teacher_forcing_ratio = 0.5\n",
    "\n",
    "best_valid_loss = float(\"inf\")\n",
    "\n",
    "train_lossi = []\n",
    "val_lossi = []\n",
    "\n",
    "for epoch in tqdm.tqdm(range(5)):\n",
    "    train_loss = train_fn(\n",
    "        model,\n",
    "        train_data_loader,\n",
    "        optimizer,\n",
    "        criterion,\n",
    "        clip,\n",
    "        teacher_forcing_ratio,\n",
    "        device,\n",
    "    )\n",
    "    valid_loss = evaluate_fn(\n",
    "        model,\n",
    "        valid_data_loader,\n",
    "        criterion,\n",
    "        device,\n",
    "    )\n",
    "\n",
    "    train_lossi.append(train_loss)\n",
    "    val_lossi.append(valid_loss)\n",
    "    \n",
    "    if valid_loss < best_valid_loss:\n",
    "        best_valid_loss = valid_loss\n",
    "        torch.save(model.state_dict(), os.path.join(model_dir, f'mt_wiki_{train_loss:7.2f}_{valid_loss:7.2f}.pt'))\n",
    "    print(f\"\\tTrain Loss: {train_loss:7.3f} | Train PPL: {np.exp(train_loss):7.3f}\")\n",
    "    print(f\"\\tValid Loss: {valid_loss:7.3f} | Valid PPL: {np.exp(valid_loss):7.3f}\")"
   ]
  },
  {
   "cell_type": "code",
   "execution_count": 66,
   "id": "b105f569-0cc8-4383-893c-bbfb896f55fc",
   "metadata": {},
   "outputs": [
    {
     "name": "stdout",
     "output_type": "stream",
     "text": [
      "[4.072244177549766, 4.005741133474392, 3.9407816035446395, 3.879677883028846, 3.822822121037807] [4.497682178461993, 4.48321380438628, 4.462791590778916, 4.447352270285289, 4.4370116458998785]\n"
     ]
    }
   ],
   "source": [
    "print(train_lossi, val_lossi)"
   ]
  },
  {
   "cell_type": "code",
   "execution_count": 69,
   "id": "8f7df212-6419-4022-9a74-0a570bebdc45",
   "metadata": {},
   "outputs": [
    {
     "name": "stderr",
     "output_type": "stream",
     "text": [
      " 20%|██████████████▏                                                        | 1/5 [08:55<35:43, 535.91s/it]"
     ]
    },
    {
     "name": "stdout",
     "output_type": "stream",
     "text": [
      "\tTrain Loss:   3.767 | Train PPL:  43.247\n",
      "\tValid Loss:   4.421 | Valid PPL:  83.155\n"
     ]
    },
    {
     "name": "stderr",
     "output_type": "stream",
     "text": [
      " 40%|████████████████████████████▍                                          | 2/5 [18:13<27:26, 548.92s/it]"
     ]
    },
    {
     "name": "stdout",
     "output_type": "stream",
     "text": [
      "\tTrain Loss:   3.713 | Train PPL:  40.990\n",
      "\tValid Loss:   4.408 | Valid PPL:  82.116\n"
     ]
    },
    {
     "name": "stderr",
     "output_type": "stream",
     "text": [
      " 60%|██████████████████████████████████████████▌                            | 3/5 [27:57<18:49, 564.65s/it]"
     ]
    },
    {
     "name": "stdout",
     "output_type": "stream",
     "text": [
      "\tTrain Loss:   3.664 | Train PPL:  39.015\n",
      "\tValid Loss:   4.396 | Valid PPL:  81.149\n"
     ]
    },
    {
     "name": "stderr",
     "output_type": "stream",
     "text": [
      " 80%|████████████████████████████████████████████████████████▊              | 4/5 [37:56<09:38, 578.43s/it]"
     ]
    },
    {
     "name": "stdout",
     "output_type": "stream",
     "text": [
      "\tTrain Loss:   3.613 | Train PPL:  37.060\n",
      "\tValid Loss:   4.391 | Valid PPL:  80.687\n"
     ]
    },
    {
     "name": "stderr",
     "output_type": "stream",
     "text": [
      "100%|███████████████████████████████████████████████████████████████████████| 5/5 [48:47<00:00, 585.45s/it]"
     ]
    },
    {
     "name": "stdout",
     "output_type": "stream",
     "text": [
      "\tTrain Loss:   3.562 | Train PPL:  35.233\n",
      "\tValid Loss:   4.383 | Valid PPL:  80.044\n"
     ]
    },
    {
     "name": "stderr",
     "output_type": "stream",
     "text": [
      "\n"
     ]
    }
   ],
   "source": [
    "train_lossi = []\n",
    "val_lossi = []\n",
    "for epoch in tqdm.tqdm(range(5)):\n",
    "    train_loss = train_fn(\n",
    "        model,\n",
    "        train_data_loader,\n",
    "        optimizer,\n",
    "        criterion,\n",
    "        clip,\n",
    "        teacher_forcing_ratio,\n",
    "        device,\n",
    "    )\n",
    "    valid_loss = evaluate_fn(\n",
    "        model,\n",
    "        valid_data_loader,\n",
    "        criterion,\n",
    "        device,\n",
    "    )\n",
    "\n",
    "    train_lossi.append(train_loss)\n",
    "    val_lossi.append(valid_loss)\n",
    "    \n",
    "    if valid_loss < best_valid_loss:\n",
    "        best_valid_loss = valid_loss\n",
    "        torch.save(model.state_dict(), os.path.join(model_dir, f'mt_wiki_{train_loss:7.2f}_{valid_loss:7.2f}.pt'))\n",
    "    print(f\"\\tTrain Loss: {train_loss:7.3f} | Train PPL: {np.exp(train_loss):7.3f}\")\n",
    "    print(f\"\\tValid Loss: {valid_loss:7.3f} | Valid PPL: {np.exp(valid_loss):7.3f}\")"
   ]
  },
  {
   "cell_type": "code",
   "execution_count": 70,
   "id": "2c37e901-69a9-4e12-ac3e-2035b2452917",
   "metadata": {},
   "outputs": [
    {
     "name": "stdout",
     "output_type": "stream",
     "text": [
      "[3.766921251148918, 3.7133240158284386, 3.6639441628859464, 3.612525670028368, 3.5619800737255005] [4.420706879209589, 4.408132712046306, 4.396289909327471, 4.390571625144394, 4.38258081012302]\n"
     ]
    }
   ],
   "source": [
    "print(train_lossi, val_lossi)"
   ]
  },
  {
   "cell_type": "code",
   "execution_count": 59,
   "id": "053530c6-5d08-46ce-9147-9915e259a123",
   "metadata": {},
   "outputs": [
    {
     "name": "stdout",
     "output_type": "stream",
     "text": [
      "Directory '../models/wiki/2024-12-04' already exists.\n"
     ]
    },
    {
     "name": "stderr",
     "output_type": "stream",
     "text": [
      " 10%|███████                                                               | 1/10 [05:29<49:24, 329.44s/it]"
     ]
    },
    {
     "name": "stdout",
     "output_type": "stream",
     "text": [
      "\tTrain Loss:   3.649 | Train PPL:  38.424\n",
      "\tValid Loss:   4.353 | Valid PPL:  77.683\n"
     ]
    },
    {
     "name": "stderr",
     "output_type": "stream",
     "text": [
      " 20%|██████████████                                                        | 2/10 [11:05<44:24, 333.10s/it]"
     ]
    },
    {
     "name": "stdout",
     "output_type": "stream",
     "text": [
      "\tTrain Loss:   3.501 | Train PPL:  33.141\n",
      "\tValid Loss:   4.347 | Valid PPL:  77.243\n"
     ]
    },
    {
     "name": "stderr",
     "output_type": "stream",
     "text": [
      " 30%|█████████████████████                                                 | 3/10 [17:24<41:19, 354.26s/it]"
     ]
    },
    {
     "name": "stdout",
     "output_type": "stream",
     "text": [
      "\tTrain Loss:   3.436 | Train PPL:  31.068\n",
      "\tValid Loss:   4.342 | Valid PPL:  76.838\n"
     ]
    },
    {
     "name": "stderr",
     "output_type": "stream",
     "text": [
      " 40%|████████████████████████████                                          | 4/10 [24:40<38:39, 386.56s/it]"
     ]
    },
    {
     "name": "stdout",
     "output_type": "stream",
     "text": [
      "\tTrain Loss:   3.376 | Train PPL:  29.249\n",
      "\tValid Loss:   4.345 | Valid PPL:  77.123\n"
     ]
    },
    {
     "name": "stderr",
     "output_type": "stream",
     "text": [
      " 50%|███████████████████████████████████                                   | 5/10 [32:39<34:58, 419.69s/it]"
     ]
    },
    {
     "name": "stdout",
     "output_type": "stream",
     "text": [
      "\tTrain Loss:   3.321 | Train PPL:  27.682\n",
      "\tValid Loss:   4.337 | Valid PPL:  76.497\n"
     ]
    },
    {
     "name": "stderr",
     "output_type": "stream",
     "text": [
      " 60%|██████████████████████████████████████████                            | 6/10 [41:16<30:11, 452.93s/it]"
     ]
    },
    {
     "name": "stdout",
     "output_type": "stream",
     "text": [
      "\tTrain Loss:   3.271 | Train PPL:  26.347\n",
      "\tValid Loss:   4.344 | Valid PPL:  77.020\n"
     ]
    },
    {
     "name": "stderr",
     "output_type": "stream",
     "text": [
      " 70%|█████████████████████████████████████████████████                     | 7/10 [51:00<24:47, 495.73s/it]"
     ]
    },
    {
     "name": "stdout",
     "output_type": "stream",
     "text": [
      "\tTrain Loss:   3.224 | Train PPL:  25.131\n",
      "\tValid Loss:   4.337 | Valid PPL:  76.501\n"
     ]
    },
    {
     "name": "stderr",
     "output_type": "stream",
     "text": [
      " 80%|██████████████████████████████████████████████████████▍             | 8/10 [1:01:00<17:37, 528.93s/it]"
     ]
    },
    {
     "name": "stdout",
     "output_type": "stream",
     "text": [
      "\tTrain Loss:   3.179 | Train PPL:  24.034\n",
      "\tValid Loss:   4.342 | Valid PPL:  76.862\n"
     ]
    },
    {
     "name": "stderr",
     "output_type": "stream",
     "text": [
      " 90%|█████████████████████████████████████████████████████████████▏      | 9/10 [1:11:30<09:20, 560.44s/it]"
     ]
    },
    {
     "name": "stdout",
     "output_type": "stream",
     "text": [
      "\tTrain Loss:   3.139 | Train PPL:  23.083\n",
      "\tValid Loss:   4.341 | Valid PPL:  76.763\n"
     ]
    },
    {
     "name": "stderr",
     "output_type": "stream",
     "text": [
      "100%|███████████████████████████████████████████████████████████████████| 10/10 [1:22:36<00:00, 495.61s/it]"
     ]
    },
    {
     "name": "stdout",
     "output_type": "stream",
     "text": [
      "\tTrain Loss:   3.096 | Train PPL:  22.118\n",
      "\tValid Loss:   4.343 | Valid PPL:  76.971\n"
     ]
    },
    {
     "name": "stderr",
     "output_type": "stream",
     "text": [
      "\n"
     ]
    }
   ],
   "source": [
    "optimizer = optim.Adam(model.parameters(), lr=0.0001)\n",
    "criterion = nn.CrossEntropyLoss(ignore_index=pad_index)\n",
    "# scheduler = optim.lr_scheduler.ExponentialLR(optimizer, gamma=0.99)\n",
    "\n",
    "def train_fn(\n",
    "    model, data_loader, optimizer, criterion, clip, teacher_forcing_ratio, device\n",
    "):\n",
    "    model.train()\n",
    "    epoch_loss = 0\n",
    "    for i, batch in enumerate(data_loader):\n",
    "        src = batch[\"fr_ids\"].to(device)\n",
    "        src_lens = batch[\"fr_lens\"]\n",
    "        trg = batch[\"en_ids\"].to(device)\n",
    "        trg_lens = batch[\"en_lens\"]\n",
    "        # src = [src length, batch size]\n",
    "        # trg = [trg length, batch size]\n",
    "        optimizer.zero_grad()\n",
    "        output = model(src, src_lens, trg, trg_lens, teacher_forcing_ratio)\n",
    "        # output = [trg length, batch size, trg vocab size]\n",
    "        output_dim = output.shape[-1]\n",
    "        output = output[1:].view(-1, output_dim)\n",
    "        # output = [(trg length - 1) * batch size, trg vocab size]\n",
    "        trg = trg[1:].view(-1)\n",
    "        # trg = [(trg length - 1) * batch size]\n",
    "        loss = criterion(output, trg)\n",
    "        loss.backward()\n",
    "        torch.nn.utils.clip_grad_norm_(model.parameters(), clip)\n",
    "        optimizer.step()\n",
    "        # scheduler.step()\n",
    "        epoch_loss += loss.item()\n",
    "    return epoch_loss / len(data_loader)\n",
    "\n",
    "# continue to train after it stopped randomly\n",
    "model.load_state_dict(torch.load(os.path.join(f'../models/wiki/2024-12-03/', f'mt_wiki.pt')))\n",
    "\n",
    "date = datetime.today().strftime('%Y-%m-%d')\n",
    "model_dir = f'../models/wiki/{date}'\n",
    "# Create the directory\n",
    "try:\n",
    "    os.mkdir(model_dir)\n",
    "    print(f\"Directory '{model_dir}' created successfully.\")\n",
    "except FileExistsError:\n",
    "    print(f\"Directory '{model_dir}' already exists.\")\n",
    "\n",
    "clip = 1.0\n",
    "teacher_forcing_ratio = 0.5\n",
    "\n",
    "best_valid_loss = float(\"inf\")\n",
    "\n",
    "train_lossi = []\n",
    "val_lossi = []\n",
    "\n",
    "for epoch in tqdm.tqdm(range(10)):\n",
    "    train_loss = train_fn(\n",
    "        model,\n",
    "        train_data_loader,\n",
    "        optimizer,\n",
    "        criterion,\n",
    "        clip,\n",
    "        teacher_forcing_ratio,\n",
    "        device,\n",
    "    )\n",
    "    valid_loss = evaluate_fn(\n",
    "        model,\n",
    "        valid_data_loader,\n",
    "        criterion,\n",
    "        device,\n",
    "    )\n",
    "\n",
    "    train_lossi.append(train_loss)\n",
    "    val_lossi.append(valid_loss)\n",
    "    \n",
    "    if valid_loss < best_valid_loss:\n",
    "        best_valid_loss = valid_loss\n",
    "        torch.save(model.state_dict(), os.path.join(model_dir, f'mt_wiki_{train_loss:7.2f}_{valid_loss:7.2f}.pt'))\n",
    "    print(f\"\\tTrain Loss: {train_loss:7.3f} | Train PPL: {np.exp(train_loss):7.3f}\")\n",
    "    print(f\"\\tValid Loss: {valid_loss:7.3f} | Valid PPL: {np.exp(valid_loss):7.3f}\")"
   ]
  },
  {
   "cell_type": "code",
   "execution_count": 60,
   "id": "7d664047-a6fa-4677-8ed0-f673986cb708",
   "metadata": {},
   "outputs": [
    {
     "name": "stdout",
     "output_type": "stream",
     "text": [
      "[3.6486871079525556, 3.5007742440299943, 3.4361804990337457, 3.3758538520764367, 3.3207758997986794, 3.2713455430049607, 3.2241062739494915, 3.17946598703864, 3.139100796654216, 3.096398694490364] [4.352634516027239, 4.346959209000623, 4.34169766638014, 4.345397894029264, 4.337253976751257, 4.344060911072625, 4.33730654142521, 4.342017317259753, 4.340727402104272, 4.343424470336349]\n"
     ]
    }
   ],
   "source": [
    "print(train_lossi, val_lossi)"
   ]
  },
  {
   "cell_type": "code",
   "execution_count": 65,
   "id": "9e12976f-503a-411d-a830-c36bff1fc30d",
   "metadata": {},
   "outputs": [
    {
     "data": {
      "image/png": "[encoded data removed]",
      "text/plain": [
       "<Figure size 1000x500 with 1 Axes>"
      ]
     },
     "metadata": {},
     "output_type": "display_data"
    }
   ],
   "source": [
    "import matplotlib.pyplot as plt\n",
    "train_loss_end = [6.326, 5.847, 5.632, 5.431, 5.264, 5.122, 4.996, 4.882, 4.779, 4.680, 4.587, 4.501, 4.422, 4.345, 4.273, 4.201, 4.136, 4.072244177549766,\n",
    "                  4.005741133474392, 3.9407816035446395, 3.879677883028846, 3.822822121037807, 3.766921251148918, 3.7133240158284386, 3.6639441628859464, 3.612525670028368, 3.5619800737255005,\n",
    "                 3.5586871079525556, 3.5007742440299943, 3.4361804990337457, 3.3758538520764367, 3.3207758997986794, 3.2713455430049607, 3.2241062739494915, 3.17946598703864, 3.139100796654216, 3.096398694490364]\n",
    "train_ppl_end = [558.728, 346.039, 279.270, 228.308, 193.296, 167.732, 147.828, 131.951, 118.999, 107.717, 98.163, 90.063, 83.255, 77.129, 71.756, 66.759, 62.533\n",
    ", 58.689, 54.913, 51.459, 48.409, 45.733, 43.247, 40.990, 39.015, 37.060, 35.233, 33.141, 31.068, 29.249, 27.682, 26.347, 25.131, 24.034, 23.083, 22.118]\n",
    "val_loss_end = [5.707, 5.515, 5.339, 5.203, 5.087, 5.000, 4.918, 4.857, 4.803, 4.754, 4.700, 4.658, 4.625, 4.594, 4.560, 4.532, 4.515, 4.497682178461993,\n",
    "                4.48321380438628, 4.462791590778916, 4.447352270285289, 4.4370116458998785, 4.420706879209589, 4.408132712046306, 4.396289909327471, 4.390571625144394, 4.38258081012302,\n",
    "               4.352634516027239, 4.346959209000623, 4.34169766638014, 4.345397894029264, 4.337253976751257, 4.344060911072625, 4.33730654142521, 4.342017317259753, 4.340727402104272, 4.343424470336349]\n",
    "val_ppl_end = [301.117, 248.363, 208.238, 181.807, 161.845, 148.451, 136.786, 128.681, 121.908, 116.055, 109.994, 105.425, 102.034, 98.928, 95.590, 92.935,\n",
    "               91.374, 89.809, 88.519, 86.729, 85.401, 84.522, 83.155, 82.116, 81.149, 80.687, 80.044, 77.243, 76.838, 77.123\n",
    ", 76.497, 77.020, 76.501, 76.862, 76.763, 76.971]\n",
    "\n",
    "# train_loss_end += train_lossi\n",
    "# val_loss_end += val_lossi\n",
    "fig = plt.figure(figsize=(10,5))\n",
    "plt.plot(train_loss_end, label='train loss')\n",
    "plt.plot(val_loss_end, label='val loss')\n",
    "plt.xlabel('Epochs')\n",
    "plt.ylabel('Loss')\n",
    "plt.title('Loss vs Epochs')\n",
    "plt.legend()\n",
    "plt.grid()\n",
    "plt.show()"
   ]
  },
  {
   "cell_type": "code",
   "execution_count": 143,
   "id": "f4a13c5b-7ccd-494f-be02-dac9a367804f",
   "metadata": {},
   "outputs": [
    {
     "data": {
      "image/png": "[encoded data removed]",
      "text/plain": [
       "<Figure size 1000x500 with 1 Axes>"
      ]
     },
     "metadata": {},
     "output_type": "display_data"
    }
   ],
   "source": [
    "fig = plt.figure(figsize=(10,5))\n",
    "plt.plot(train_ppl_end, label='train perplexity')\n",
    "plt.plot(val_ppl_end, label='val perplexity')\n",
    "plt.xlabel('Epochs')\n",
    "plt.ylabel('Perplexity')\n",
    "plt.title('Perplexity vs Epochs')\n",
    "plt.legend()\n",
    "plt.grid()\n",
    "plt.show()"
   ]
  },
  {
   "cell_type": "markdown",
   "id": "21f6d16c-254a-4943-abfa-1f80d580c977",
   "metadata": {},
   "source": [
    "### Evaluating on test set"
   ]
  },
  {
   "cell_type": "code",
   "execution_count": 135,
   "id": "9b062474-122f-4ba7-ad31-40c1642d39e5",
   "metadata": {},
   "outputs": [
    {
     "name": "stdout",
     "output_type": "stream",
     "text": [
      "| Test Loss: 4.351 | Test PPL:  77.562 |\n"
     ]
    }
   ],
   "source": [
    "model.load_state_dict(torch.load(os.path.join(f'../models/wiki/2024-12-04/', f'mt_wiki.pt')))\n",
    "\n",
    "test_loss = evaluate_fn(model, test_data_loader, criterion, device)\n",
    "\n",
    "print(f\"| Test Loss: {test_loss:.3f} | Test PPL: {np.exp(test_loss):7.3f} |\")"
   ]
  },
  {
   "cell_type": "markdown",
   "id": "b3529853-917c-4aeb-821b-8faae4088b46",
   "metadata": {},
   "source": [
    "### BLEU score"
   ]
  },
  {
   "cell_type": "code",
   "execution_count": 136,
   "id": "489816d4-d19b-4be6-89b2-a20897500f46",
   "metadata": {},
   "outputs": [],
   "source": [
    "def translate_sentence(\n",
    "    sentence,\n",
    "    model,\n",
    "    en_nlp,\n",
    "    fr_nlp,\n",
    "    en_vocab,\n",
    "    fr_vocab,\n",
    "    lower,\n",
    "    sos_token,\n",
    "    eos_token,\n",
    "    device,\n",
    "    max_output_length=25,\n",
    "):\n",
    "    model.eval()\n",
    "    with torch.no_grad():\n",
    "        if isinstance(sentence, str):\n",
    "            tokens = [token.text for token in fr_nlp.tokenizer(sentence)]\n",
    "        else:\n",
    "            tokens = [token for token in sentence]\n",
    "        if lower:\n",
    "            tokens = [token.lower() for token in tokens]\n",
    "        tokens = [sos_token] + tokens + [eos_token]\n",
    "        ids = fr_vocab.lookup_indices(tokens)\n",
    "        tensor = torch.LongTensor(ids).unsqueeze(-1).to(device)\n",
    "        src_len = [tensor.shape[0]]\n",
    "        hidden, cell = model.encoder(tensor, src_len)\n",
    "        inputs = en_vocab.lookup_indices([sos_token])\n",
    "        for _ in range(max_output_length):\n",
    "            inputs_tensor = torch.LongTensor([inputs[-1]]).to(device)\n",
    "            output, hidden, cell = model.decoder(inputs_tensor, hidden, cell)\n",
    "            predicted_token = output.argmax(-1).item()\n",
    "            inputs.append(predicted_token)\n",
    "            if predicted_token == en_vocab[eos_token]:\n",
    "                break\n",
    "        tokens = en_vocab.lookup_tokens(inputs)\n",
    "    return tokens"
   ]
  },
  {
   "cell_type": "code",
   "execution_count": 84,
   "id": "8161c3a8-c0ed-4bbf-b3bf-70eecf88d178",
   "metadata": {},
   "outputs": [
    {
     "data": {
      "text/plain": [
       "('il n a pas d enfants de l un ou l autre mariage',\n",
       " 'there were no children of either marriage')"
      ]
     },
     "execution_count": 84,
     "metadata": {},
     "output_type": "execute_result"
    }
   ],
   "source": [
    "sentence = test_data[10][\"fr\"]\n",
    "expected_translation = test_data[10][\"en\"]\n",
    "\n",
    "sentence, expected_translation"
   ]
  },
  {
   "cell_type": "code",
   "execution_count": 85,
   "id": "e338b1c8-758b-4646-ae86-435712b72762",
   "metadata": {},
   "outputs": [],
   "source": [
    "translation = translate_sentence(\n",
    "    sentence,\n",
    "    model,\n",
    "    en_nlp,\n",
    "    fr_nlp,\n",
    "    en_vocab,\n",
    "    fr_vocab,\n",
    "    lower,\n",
    "    sos_token,\n",
    "    eos_token,\n",
    "    device,\n",
    ")"
   ]
  },
  {
   "cell_type": "code",
   "execution_count": 86,
   "id": "3494b57c-e64a-4213-aa08-71cad83b61af",
   "metadata": {},
   "outputs": [
    {
     "data": {
      "text/plain": [
       "['<sos>', 'there', 'were', 'no', 'children', 'of', 'his', 'marriage', '<eos>']"
      ]
     },
     "execution_count": 86,
     "metadata": {},
     "output_type": "execute_result"
    }
   ],
   "source": [
    "translation"
   ]
  },
  {
   "cell_type": "code",
   "execution_count": 87,
   "id": "95016306-2816-4098-9f88-a6cad297b55d",
   "metadata": {},
   "outputs": [],
   "source": [
    "sentence = \"Bonjour.\""
   ]
  },
  {
   "cell_type": "code",
   "execution_count": 88,
   "id": "398efc9f-102f-4337-a919-d8238bc5b25c",
   "metadata": {},
   "outputs": [],
   "source": [
    "translation = translate_sentence(\n",
    "    sentence,\n",
    "    model,\n",
    "    en_nlp,\n",
    "    fr_nlp,\n",
    "    en_vocab,\n",
    "    fr_vocab,\n",
    "    lower,\n",
    "    sos_token,\n",
    "    eos_token,\n",
    "    device,\n",
    ")"
   ]
  },
  {
   "cell_type": "code",
   "execution_count": 89,
   "id": "5df628b6-792f-4c3c-87ad-380b19a75378",
   "metadata": {},
   "outputs": [
    {
     "data": {
      "text/plain": [
       "['<sos>', '<unk>', '<unk>', '<eos>']"
      ]
     },
     "execution_count": 89,
     "metadata": {},
     "output_type": "execute_result"
    }
   ],
   "source": [
    "translation"
   ]
  },
  {
   "cell_type": "code",
   "execution_count": 137,
   "id": "ad9d7364-9992-41a7-8375-93f58eacc62b",
   "metadata": {},
   "outputs": [
    {
     "name": "stderr",
     "output_type": "stream",
     "text": [
      "100%|████████████████████████████████████████████████████████████████| 13794/13794 [03:35<00:00, 63.98it/s]\n"
     ]
    }
   ],
   "source": [
    "translations = [\n",
    "    translate_sentence(\n",
    "        example[\"fr\"],\n",
    "        model,\n",
    "        en_nlp,\n",
    "        fr_nlp,\n",
    "        en_vocab,\n",
    "        fr_vocab,\n",
    "        lower,\n",
    "        sos_token,\n",
    "        eos_token,\n",
    "        device,\n",
    "    )\n",
    "    for example in tqdm.tqdm(test_dataset)\n",
    "]"
   ]
  },
  {
   "cell_type": "code",
   "execution_count": 138,
   "id": "cc0af41a-ae8c-4fe7-ab78-f6fecbcf8d54",
   "metadata": {},
   "outputs": [],
   "source": [
    "bleu = evaluate.load(\"bleu\")"
   ]
  },
  {
   "cell_type": "code",
   "execution_count": 139,
   "id": "02c9ef00-ebe2-47f5-8acf-e92037144482",
   "metadata": {},
   "outputs": [],
   "source": [
    "predictions = [\" \".join(translation[1:-1]) for translation in translations]\n",
    "\n",
    "references = [[example[\"en\"]] for example in test_dataset]"
   ]
  },
  {
   "cell_type": "code",
   "execution_count": 144,
   "id": "6fbbabf8-a13b-49a2-9afa-074542db85df",
   "metadata": {},
   "outputs": [
    {
     "name": "stdout",
     "output_type": "stream",
     "text": [
      "teams, ['staff'], cet endroit est parfait\n",
      "george thomas thomas b, ['robert brydges b died young'], les deux generaux se rencontrerent de nouveau le lendemain\n",
      "official website of website website, ['official website lgbtq video game archive'], ne soyez pas si durs avec vous memes\n",
      "<unk> <unk>, ['extraterritorial jurisdiction'], tom est decede subitement\n",
      "early life and career, ['life and career'], il vous faut me dire la verite\n",
      "as featured artist, ['as writer'], vous ne voulez pas etre en retard a l entrainement\n",
      "it is a tributary of the, ['he is a police superintendent'], veille a ton langage !\n",
      "official website, ['official website'], ca doit etre une erreur\n",
      "<unk> <unk> <unk>, ['behrens fisher problem'], elle se demanda ou elle avait perdu son sac a main\n",
      "st <unk> of of <unk>, ['st rhode island volunteers at camp alger'], ne vous prenez pas tant au serieux !\n",
      "second life, ['graduate school'], je deteste cette partie de la ville\n",
      "modern, ['western countries'], comment peux tu etre aussi egoiste ?\n",
      "<unk> <unk>, ['madrasa asfouria'], je me suis completement retabli\n",
      "<unk> <unk> palace, ['fort teremba near moindou'], elle lit le journal chaque matin\n",
      "<unk> <unk>, ['snowbound horse'], j ai arrete de fumer\n",
      "science, ['science'], si tu ne veux vraiment pas venir tu ne le dois pas\n",
      "with <unk> <unk> <unk>, ['some boring love stories pt'], il fait des progres remarquables en anglais ces derniers temps\n",
      "ling was was born in dublin on april, ['hilary heron was born in dublin on march'], vous etes endormi\n",
      "she she worked with <unk> <unk>, ['then bandaged it with padded splints'], un poisson a saute hors de l eau\n",
      "<unk> <unk> <unk>, ['skycable axes axn'], vous avez tout\n",
      "he became a in in a <unk>, ['he holds a doctor of technical sciences'], mes parents sont cingles\n",
      "<unk> has two two two books, ['butera writes many of her own songs'], mon fils veut etre un golfeur professionnel\n",
      "cambridge cambridge university press press press, ['cambridge ma mit press'], ca ne va pas bien se terminer\n",
      "<unk> <unk> <unk> <unk> op, ['arsis luigi boccherini'], je suis difficile\n",
      "in he married married <unk> kusal, ['in he married alys elizabeth carr'], elle lui a dit d essayer plus fort\n",
      "<unk> <unk> <unk>, ['a terrified varuna pleads to rama'], ca fait dix ans qu il est mort\n",
      "external <unk>, ['zhang sijing'], tu ne suggeres pas que tom aurait pu le faire non ?\n",
      "early life and career career, ['life and early education'], je vous rendrai fiers de moi\n",
      "later life and and, ['divorce later lives and recorded legacy'], c est d accord si je fais une pause ?\n",
      "the <unk> of museum, ['white house office of the press'], la lumiere est eteinte\n",
      "arxiv, ['user sadenar ma'], pourquoi n as tu pas de petite amie ?\n",
      "<unk>, ['mema is a region in mali africa'], est ce votre verre ou celui de votre s ur ?\n",
      "the marriage had two children, ['the marriage produced two children'], il n y a la rien d amusant\n",
      "references, ['publications'], qui prend soin de toi ?\n",
      "list list, ['incomplete'], comme tu es mignonne\n",
      "he was the of of, ['it was dated to ah ce'], ils ne pouvaient qu ecouter\n",
      "a of of of was was be, ['one percent of each sex was uncertain'], il me faut trouver un autre avocat\n",
      "bibcode <unk> of <unk> a a, ['washington square arch stands feet m high'], j apprecie le jazz\n",
      "selected publications, ['selective bibliography'], comment voulez vous vous faire couper les cheveux ?\n",
      "xiii code subd d cal, ['gov code subd h par'], je les apprecie toutes\n",
      "he was also lord lord earl, ['he was also lord clerk register prior to'], elle l a emmene au magasin\n",
      "shortly of his children were died, ['fourteen of her children predeceased her'], nous nous rendons a une autre fete apres celle ci\n",
      "best best award award album, ['best ukrainian film audience award'], nous ferions mieux d aller aider tom\n",
      "early work, ['early interests'], tu devrais voir un medecin\n",
      "<unk> <unk> in <unk> <unk> june june, ['ripping vinyl part by jeff klingman april'], tu es liberee de toute responsabilite\n",
      "united service, ['detailed service'], en haiti il y a eu un important tremblement de terre\n",
      "soviet, ['present'], nous sommes a peu pres du meme age\n",
      "conservatism of, ['as atlanta hawks present'], je le sais\n",
      "history, ['the open championship'], ces chaussures ne feront pas l affaire pour l escalade\n",
      "the <unk> are known into the, ['incised cienagas are common today'], laissez la dormir\n",
      "selected publications, ['select works'], j ai pense que tu voudrais peut etre un petit dejeuner\n",
      "<unk>, ['complications'], on est suppose aider ses amis lorsqu ils sont dans le petrin\n",
      "death and death, ['death and burial'], le plancher etait reluisant\n",
      "museum museum museum, ['kolkota indian museum'], il a dormi dans la voiture\n",
      "she was not was, ['she carried out four patrols'], je suis toujours votre ami\n",
      "reception and history, ['election campaigning and financing'], les montagnes de l himalaya sont plus hautes que celles des andes\n",
      "<unk> was born in <unk> <unk>, ['he was born in cassano d adda'], il s est mis tres en colere\n",
      "there is no no no known, ['no known works survive'], c est un plan ambitieux\n",
      "structure, ['origin and insertion'], je veux votre nom et votre numero de passe\n",
      "and the the the the, ['and on the interface along the plane'], y a t il qui que ce soit ici que vous ne connaissiez pas ?\n",
      "<unk> of, ['chamber orchestra'], je veux parler a quiconque est ici le responsable\n",
      "<unk>, ['bioasphalt'], tu disais avoir besoin de quelqu un pour te proteger\n",
      "<unk>, ['increased mpv'], elle eteignit la radio\n",
      "<unk>, ['sixth'], je ne l ai pas reconnu tout de suite dans le train\n",
      "<unk> <unk> <unk> <unk> <unk> b, ['functional gallbladder disorder e b'], je me suis casse le bras\n",
      "<unk> <unk> the the <unk>, ['akropolites g the history trans'], je mets vos valises dans votre chambre\n",
      "<unk> <unk>, ['tea room internet cafe'], suis je supposee en gober quoi que ce soit ?\n",
      "the <unk> is <unk> <unk>, ['the architect was arthur blomfield'], ne pars pas sans dire au revoir\n",
      "the <unk> of <unk> press, ['university of cambodia'], ma moto est tombee en panne sur le chemin\n",
      "<unk> of <unk>, ['casina latin full text'], vous etes precisement l homme que je veux voir\n",
      "bibliography, ['w f vernon'], elle s est decidee a y aller\n",
      "moldavan at <unk> in a a, ['loaded crack in a plate'], est ce que tu manges du poisson ?\n",
      "he died in october aged, ['he died in september aged'], puis je te faire une place a table ?\n",
      "oppo hurwitz, ['inch release'], pourquoi ne me demandez vous pas ce que vous voulez vraiment savoir ?\n",
      "<unk> was born in in in in, ['shaykh tusi was born in ad in tus iran'], tresor je t aime !\n",
      "let m displaystyle displaystyle displaystyle w h h, ['set h f g displaystyle h fg'], les billets que j ai achetes ne sont pas remboursables\n",
      "retrieved january <unk> <unk>, ['doi issn wright cody'], elle commenca a faire ses devoirs immediatement apres le dejeuner\n",
      "public and and television, ['theatre film stage and tv'], il trouve du plaisir a regarder les gens\n",
      "return to parliament, ['back in denmark'], c etait un jeu vraiment tres excitant\n",
      "<unk> <unk> <unk>, ['lingzhi vans'], je pense qu il se pourrait que tu changes finalement d avis\n",
      "this is, ['however suppose one moves down in a group'], elles ont toutes glousse\n",
      "list of <unk> <unk> <unk>, ['list of map projections'], il y a toujours une premiere fois a tout\n",
      "<unk> <unk> <unk> <unk>, ['typical semiconducting small molecules'], elles l adorent\n",
      "<unk> university press, ['the origins and dispersal of modern man'], il sera en securite avec moi\n",
      "oppo op, ['cd set'], embrasse moi\n",
      "men, ['class'], est ce la ta propre idee ?\n",
      "<unk> married married to baron wenlock, ['thank you july one day ver'], j ai besoin que tu m aides\n",
      "the edition james james <unk> <unk>, ['past present richard henry tawney'], tu ne dois pas crier sur lui\n",
      "<unk>, ['post gazette'], j ai pense que nous pourrions rester ici toute la journee\n",
      "he has a a a in <unk>, ['it builds a pear shaped nest in a tree'], il a essaye de l etrangler\n",
      "titles and other, ['concerts and shows'], nous t aiderons\n",
      "public wins, ['supporting'], est ce qu on a demande a tom de partir ?\n",
      "early life and world war war, ['youth and world war ii'], je n ai pas le temps de discuter\n",
      "<unk>, ['defection'], ces boites vides prennent trop de place\n",
      "the, ['mission'], je sais qu il est assez tard mais cela te derangerait il que je vienne chez toi maintenant ? j ai quelque chose qu il me faut discuter avec toi\n",
      "<unk> <unk> <unk>, ['siyanda mohutsiwa on twitter'], on garde contact\n",
      "awards and honors, ['awards'], il a fait du bon boulot\n",
      "the company in in the th century century, ['grzybowski square in the late th century'], etes vous sur de pouvoir faire ca ?\n",
      "portrait portrait of <unk> in, ['self portrait'], si vous mangez trois repas complets par jour votre corps disposera de l energie dont il a besoin\n",
      "second battle of <unk>, ['second battle of collierville'], je serai pret la prochaine fois\n"
     ]
    }
   ],
   "source": [
    "for i in range(100):\n",
    "    print(f'{predictions[i+100]}, {references[i+100]}, {tat_test_dataset[i+100][\"fr\"]}')"
   ]
  },
  {
   "cell_type": "code",
   "execution_count": 94,
   "id": "33c93115-0202-4440-b2fa-ca59d3aa8c98",
   "metadata": {},
   "outputs": [
    {
     "data": {
      "text/plain": [
       "{'en_ids': tensor([  2, 111, 593,   3]),\n",
       " 'fr_ids': tensor([   2, 5012, 2367,    3]),\n",
       " 'en': 'national songs',\n",
       " 'fr': 'musiques nationales',\n",
       " 'en_tokens': ['<sos>', 'national', 'songs', '<eos>'],\n",
       " 'fr_tokens': ['<sos>', 'musiques', 'nationales', '<eos>']}"
      ]
     },
     "execution_count": 94,
     "metadata": {},
     "output_type": "execute_result"
    }
   ],
   "source": [
    "test_dataset[0]"
   ]
  },
  {
   "cell_type": "code",
   "execution_count": 95,
   "id": "3f5b4953-269e-4b8e-93bc-f8be471edf33",
   "metadata": {},
   "outputs": [],
   "source": [
    "def get_tokenizer_fn(nlp, lower):\n",
    "    def tokenizer_fn(s):\n",
    "        tokens = [token.text for token in nlp.tokenizer(s)]\n",
    "        if lower:\n",
    "            tokens = [token.lower() for token in tokens]\n",
    "        return tokens\n",
    "\n",
    "    return tokenizer_fn"
   ]
  },
  {
   "cell_type": "code",
   "execution_count": 96,
   "id": "14f0711f-61b3-4749-88d4-82f81ba9864a",
   "metadata": {},
   "outputs": [],
   "source": [
    "tokenizer_fn = get_tokenizer_fn(en_nlp, lower)"
   ]
  },
  {
   "cell_type": "code",
   "execution_count": 97,
   "id": "8160d26c-83ec-4656-93f3-87c2b8d83605",
   "metadata": {},
   "outputs": [
    {
     "data": {
      "text/plain": [
       "(['music', 'music'], ['national', 'songs'])"
      ]
     },
     "execution_count": 97,
     "metadata": {},
     "output_type": "execute_result"
    }
   ],
   "source": [
    "tokenizer_fn(predictions[0]), tokenizer_fn(references[0][0])"
   ]
  },
  {
   "cell_type": "code",
   "execution_count": 98,
   "id": "d02c0669-686a-46c4-a9cd-6507e7d33036",
   "metadata": {},
   "outputs": [],
   "source": [
    "results = bleu.compute(\n",
    "    predictions=predictions, references=references, tokenizer=tokenizer_fn\n",
    ")"
   ]
  },
  {
   "cell_type": "code",
   "execution_count": 99,
   "id": "60c7cb11-d5b8-4424-b328-e027b4c80365",
   "metadata": {},
   "outputs": [
    {
     "data": {
      "text/plain": [
       "{'bleu': 0.05915846536075221,\n",
       " 'precisions': [0.2207334173736916,\n",
       "  0.08079990142059958,\n",
       "  0.03753607103218646,\n",
       "  0.018295313983258062],\n",
       " 'brevity_penalty': 1.0,\n",
       " 'length_ratio': 1.2480510526967066,\n",
       " 'translation_length': 70601,\n",
       " 'reference_length': 56569}"
      ]
     },
     "execution_count": 99,
     "metadata": {},
     "output_type": "execute_result"
    }
   ],
   "source": [
    "results"
   ]
  },
  {
   "cell_type": "markdown",
   "id": "d8e013ab-01ce-4c29-9d21-cc82ee6c1e8c",
   "metadata": {},
   "source": [
    "### Cross testing with tatoeba test set"
   ]
  },
  {
   "cell_type": "code",
   "execution_count": 100,
   "id": "433cf543-b990-4a51-a799-dbfb37c7fcf9",
   "metadata": {},
   "outputs": [],
   "source": [
    "# Turn a Unicode string to plain ASCII, thanks to\n",
    "# https://stackoverflow.com/a/518232/2809427\n",
    "def unicodeToAscii(s):\n",
    "    return ''.join(\n",
    "        c for c in unicodedata.normalize('NFD', s)\n",
    "        if unicodedata.category(c) != 'Mn'\n",
    "    )\n",
    "\n",
    "# Lowercase, trim, and remove non-letter characters\n",
    "def normalizeString(s):\n",
    "    s = unicodeToAscii(s.lower().strip())\n",
    "    s = re.sub(r\"([.!?])\", r\" \\1\", s)\n",
    "    s = re.sub(r\"[^a-zA-Z!?]+\", r\" \", s)\n",
    "    return s.strip()"
   ]
  },
  {
   "cell_type": "code",
   "execution_count": 101,
   "id": "15fd515c-2921-4048-b46f-7638d320a9cf",
   "metadata": {},
   "outputs": [],
   "source": [
    "def readData(lang1, lang2):\n",
    "    print(\"Reading lines...\")\n",
    "\n",
    "    # Read the file and split into lines\n",
    "    lines = open('../data/tatoeba/%s-%s.txt' % (lang1, lang2), encoding='utf-8').\\\n",
    "        read().strip().split('\\n')\n",
    "\n",
    "    # Split every line into pairs and normalize\n",
    "    pairs = [[normalizeString(s) for s in l.split('\\t')] for l in lines]\n",
    "\n",
    "    # Reverse pairs, make Lang instances\n",
    "    # if reverse:\n",
    "    #     pairs = [list(reversed(p)) for p in pairs]\n",
    "    #     input_lang = Lang(lang2)\n",
    "    #     output_lang = Lang(lang1)\n",
    "    # else:\n",
    "    #     input_lang = Lang(lang1)\n",
    "    #     output_lang = Lang(lang2)\n",
    "\n",
    "    data = [{lang1: pair[0], lang2: pair[1]}for pair in pairs]\n",
    "\n",
    "    return data"
   ]
  },
  {
   "cell_type": "code",
   "execution_count": 102,
   "id": "51ce669d-72da-47e9-a7f2-bfbbc49ecf6c",
   "metadata": {},
   "outputs": [
    {
     "name": "stdout",
     "output_type": "stream",
     "text": [
      "Reading lines...\n"
     ]
    }
   ],
   "source": [
    "tat_data = readData('en', 'fr')"
   ]
  },
  {
   "cell_type": "code",
   "execution_count": 103,
   "id": "173888c1-b496-47e8-82a4-b6ce6628fd94",
   "metadata": {},
   "outputs": [
    {
     "data": {
      "text/plain": [
       "[{'en': 'go', 'fr': 'va !'},\n",
       " {'en': 'run !', 'fr': 'cours !'},\n",
       " {'en': 'run !', 'fr': 'courez !'},\n",
       " {'en': 'wow !', 'fr': 'ca alors !'},\n",
       " {'en': 'fire !', 'fr': 'au feu !'},\n",
       " {'en': 'help !', 'fr': 'a l aide !'},\n",
       " {'en': 'jump', 'fr': 'saute'},\n",
       " {'en': 'stop !', 'fr': 'ca suffit !'},\n",
       " {'en': 'stop !', 'fr': 'stop !'},\n",
       " {'en': 'stop !', 'fr': 'arrete toi !'}]"
      ]
     },
     "execution_count": 103,
     "metadata": {},
     "output_type": "execute_result"
    }
   ],
   "source": [
    "tat_data[:10]"
   ]
  },
  {
   "cell_type": "code",
   "execution_count": 104,
   "id": "81639ef0-f8a4-425f-992b-dd47fd06fdf1",
   "metadata": {},
   "outputs": [
    {
     "data": {
      "text/plain": [
       "[{'en': 'it s perfect', 'fr': 'c est parfait'},\n",
       " {'en': 'i was sitting next to a man who clearly had a lot on his mind',\n",
       "  'fr': 'j etais assise a cote d un homme qui avait a l evidence de nombreuses choses en tete'},\n",
       " {'en': 'we have a gig at the club tomorrow night',\n",
       "  'fr': 'nous faisons un b uf au club demain soir'},\n",
       " {'en': 'i m not going to hurt you', 'fr': 'je ne vais pas te faire de mal'},\n",
       " {'en': 'apart from a filing tray full of papers on the desk everything else in the room was on the floor',\n",
       "  'fr': 'en dehors d une classeur plein de papiers sur le bureau tout le reste dans la piece etait par terre'},\n",
       " {'en': 'i d like to visit your country someday',\n",
       "  'fr': 'j aimerais visiter ton pays un de ces jours'},\n",
       " {'en': 'how thoughtful of you to have chilled some wine for us',\n",
       "  'fr': 'comme c est attentionne de votre part d avoir mis au frais du vin pour nous'},\n",
       " {'en': 'you should cut up your meat before you eat it',\n",
       "  'fr': 'tu devrais couper ta viande en morceaux avant de la manger'},\n",
       " {'en': 'an athlete must keep in good condition',\n",
       "  'fr': 'un athlete doit rester en forme'},\n",
       " {'en': 'you need to be more patient',\n",
       "  'fr': 'il vous faut etre plus patiente'}]"
      ]
     },
     "execution_count": 104,
     "metadata": {},
     "output_type": "execute_result"
    }
   ],
   "source": [
    "random.seed(1234)\n",
    "# print(\"Before shuffle:\", data[:10])\n",
    "random.shuffle(tat_data)\n",
    "# print(\"After shuffle:\", data[:10])\n",
    "tat_data[:10]"
   ]
  },
  {
   "cell_type": "code",
   "execution_count": 105,
   "id": "9fdc36db-0e6b-4690-8755-a53bab245cd6",
   "metadata": {},
   "outputs": [
    {
     "data": {
      "text/plain": [
       "DatasetDict({\n",
       "    train: Dataset({\n",
       "        features: ['en', 'fr'],\n",
       "        num_rows: 108673\n",
       "    })\n",
       "    validation: Dataset({\n",
       "        features: ['en', 'fr'],\n",
       "        num_rows: 13584\n",
       "    })\n",
       "    test: Dataset({\n",
       "        features: ['en', 'fr'],\n",
       "        num_rows: 13585\n",
       "    })\n",
       "})"
      ]
     },
     "execution_count": 105,
     "metadata": {},
     "output_type": "execute_result"
    }
   ],
   "source": [
    "# splittng data\n",
    "tat_n = len(tat_data)\n",
    "tat_n_train = int(0.8*tat_n)\n",
    "tat_n_val = int(0.9*tat_n)\n",
    "\n",
    "tat_train_data = tat_data[:tat_n_train]\n",
    "tat_val_data = tat_data[tat_n_train:tat_n_val]\n",
    "tat_test_data = tat_data[tat_n_val:]\n",
    "\n",
    "# convert to Huggingface dataset\n",
    "tat_train_dataset = Dataset.from_list(tat_train_data)\n",
    "tat_val_dataset = Dataset.from_list(tat_val_data)\n",
    "tat_test_dataset = Dataset.from_list(tat_test_data)\n",
    "\n",
    "# Create the DatasetDict\n",
    "tat_dataset_dict = DatasetDict({\n",
    "    \"train\": tat_train_dataset,\n",
    "    \"validation\": tat_val_dataset,\n",
    "    \"test\": tat_test_dataset\n",
    "})\n",
    "\n",
    "tat_dataset_dict"
   ]
  },
  {
   "cell_type": "code",
   "execution_count": 106,
   "id": "5987d9f7-2273-4ddf-8ae7-8c1082254bf2",
   "metadata": {},
   "outputs": [],
   "source": [
    "tat_en_nlp = spacy.load(\"en_core_web_sm\")\n",
    "tat_fr_nlp = spacy.load(\"fr_core_news_sm\")"
   ]
  },
  {
   "cell_type": "code",
   "execution_count": 107,
   "id": "09db3a1a-1020-4b9a-b638-98c8be18cd74",
   "metadata": {},
   "outputs": [
    {
     "data": {
      "text/plain": [
       "['What', 'a', 'lovely', 'day', 'it', 'is', 'today', '!']"
      ]
     },
     "execution_count": 107,
     "metadata": {},
     "output_type": "execute_result"
    }
   ],
   "source": [
    "string = \"What a lovely day it is today!\"\n",
    "\n",
    "[token.text for token in tat_en_nlp.tokenizer(string)]"
   ]
  },
  {
   "cell_type": "code",
   "execution_count": 108,
   "id": "54985605-0c6b-4374-b200-eeb072036b0b",
   "metadata": {},
   "outputs": [],
   "source": [
    "def tokenize_example(example, en_nlp, fr_nlp, max_length, lower, sos_token, eos_token):\n",
    "    en_tokens = [token.text for token in en_nlp.tokenizer(example[\"en\"])][:max_length]\n",
    "    fr_tokens = [token.text for token in fr_nlp.tokenizer(example[\"fr\"])][:max_length]\n",
    "    if lower:\n",
    "        en_tokens = [token.lower() for token in en_tokens]\n",
    "        fr_tokens = [token.lower() for token in fr_tokens]\n",
    "    en_tokens = [sos_token] + en_tokens + [eos_token]\n",
    "    fr_tokens = [sos_token] + fr_tokens + [eos_token]\n",
    "    return {\"en_tokens\": en_tokens, \"fr_tokens\": fr_tokens}"
   ]
  },
  {
   "cell_type": "code",
   "execution_count": 109,
   "id": "d92ebd4e-74c9-45a9-8fa8-cc285c2ac149",
   "metadata": {},
   "outputs": [
    {
     "data": {
      "application/vnd.jupyter.widget-view+json": {
       "model_id": "8d45f3af660c45b0b6b9010abb625a3d",
       "version_major": 2,
       "version_minor": 0
      },
      "text/plain": [
       "Map:   0%|          | 0/108673 [00:00<?, ? examples/s]"
      ]
     },
     "metadata": {},
     "output_type": "display_data"
    },
    {
     "data": {
      "application/vnd.jupyter.widget-view+json": {
       "model_id": "e64012bc5c9e41518e45276765b00ee9",
       "version_major": 2,
       "version_minor": 0
      },
      "text/plain": [
       "Map:   0%|          | 0/13584 [00:00<?, ? examples/s]"
      ]
     },
     "metadata": {},
     "output_type": "display_data"
    },
    {
     "data": {
      "application/vnd.jupyter.widget-view+json": {
       "model_id": "ecfa21e54de84bc9ae0002d359d0069d",
       "version_major": 2,
       "version_minor": 0
      },
      "text/plain": [
       "Map:   0%|          | 0/13585 [00:00<?, ? examples/s]"
      ]
     },
     "metadata": {},
     "output_type": "display_data"
    }
   ],
   "source": [
    "max_length = 1_000\n",
    "lower = True\n",
    "sos_token = \"<sos>\"\n",
    "eos_token = \"<eos>\"\n",
    "\n",
    "fn_kwargs = {\n",
    "    \"en_nlp\": tat_en_nlp,\n",
    "    \"fr_nlp\": tat_fr_nlp,\n",
    "    \"max_length\": max_length,\n",
    "    \"lower\": lower,\n",
    "    \"sos_token\": sos_token,\n",
    "    \"eos_token\": eos_token,\n",
    "}\n",
    "\n",
    "tat_train_dataset = tat_train_dataset.map(tokenize_example, fn_kwargs=fn_kwargs)\n",
    "tat_val_dataset = tat_val_dataset.map(tokenize_example, fn_kwargs=fn_kwargs)\n",
    "tat_test_dataset = tat_test_dataset.map(tokenize_example, fn_kwargs=fn_kwargs)"
   ]
  },
  {
   "cell_type": "code",
   "execution_count": 110,
   "id": "a3259c6c-a110-4b40-b937-1a853dff7888",
   "metadata": {},
   "outputs": [
    {
     "data": {
      "text/plain": [
       "{'en': 'it s perfect',\n",
       " 'fr': 'c est parfait',\n",
       " 'en_tokens': ['<sos>', 'it', 's', 'perfect', '<eos>'],\n",
       " 'fr_tokens': ['<sos>', 'c', 'est', 'parfait', '<eos>']}"
      ]
     },
     "execution_count": 110,
     "metadata": {},
     "output_type": "execute_result"
    }
   ],
   "source": [
    "tat_train_dataset[0]"
   ]
  },
  {
   "cell_type": "markdown",
   "id": "3ad21a00-b3d8-4227-80c9-815a54912d87",
   "metadata": {},
   "source": [
    "### BLEU score on tatoeba test set"
   ]
  },
  {
   "cell_type": "code",
   "execution_count": 111,
   "id": "9be209c1-7fb5-4ee7-9c04-d93b35729d53",
   "metadata": {},
   "outputs": [
    {
     "name": "stderr",
     "output_type": "stream",
     "text": [
      "100%|████████████████████████████████████████████████████████████████| 13585/13585 [04:27<00:00, 50.85it/s]\n"
     ]
    }
   ],
   "source": [
    "translations = [\n",
    "    translate_sentence(\n",
    "        example[\"fr\"],\n",
    "        model,\n",
    "        en_nlp,\n",
    "        fr_nlp,\n",
    "        en_vocab,\n",
    "        fr_vocab,\n",
    "        lower,\n",
    "        sos_token,\n",
    "        eos_token,\n",
    "        device,\n",
    "    )\n",
    "    for example in tqdm.tqdm(tat_test_dataset)\n",
    "]"
   ]
  },
  {
   "cell_type": "code",
   "execution_count": 114,
   "id": "6d7fcdc9-4e1d-43e6-ade6-e1b7bb40acc1",
   "metadata": {},
   "outputs": [],
   "source": [
    "bleu = evaluate.load(\"bleu\")"
   ]
  },
  {
   "cell_type": "code",
   "execution_count": 115,
   "id": "84371cc7-4904-44f2-b872-a3c6d6fa23f5",
   "metadata": {},
   "outputs": [],
   "source": [
    "predictions = [\" \".join(translation[1:-1]) for translation in translations]\n",
    "\n",
    "references = [[example[\"en\"]] for example in tat_test_dataset]"
   ]
  },
  {
   "cell_type": "code",
   "execution_count": 134,
   "id": "a403f35e-8e68-41b4-851a-fc5082f4eb7b",
   "metadata": {},
   "outputs": [
    {
     "name": "stdout",
     "output_type": "stream",
     "text": [
      "each the the the the, ['keep your hands on the wheel'], laissez les mains sur le volant\n",
      "his powerband was be be be, ['his teacher should be strict with him'], son professeur devrait etre strict avec lui\n",
      "what is t ? ? ? ?, ['what s kept you ?'], qu est ce qui t a retenu ?\n",
      "i don t t t that, ['i don t know who did it'], je ne sais pas qui l a fait\n",
      "i don t it, ['i make you nervous don t i ?'], je te rends nerveux n est ce pas ?\n",
      "i didn t have the the, ['i don t have the slightest clue'], je n en ai pas la moindre idee\n",
      "i don t t t that i, ['i don t know what i m doing yet'], je ne sais pas encore ce que je fais\n",
      "go you to you ? ?, ['do you want to dance with me ?'], veux tu danser avec moi ?\n",
      "this is not the the of, ['size does not matter'], ce n est pas la taille qui compte\n",
      "i have to to the, ['i ve heard all about you'], j ai tout entendu a ton sujet\n",
      "the <unk> <unk> is is m to metres, ['the food at that restaurant is too greasy for me'], le menu de ce restaurant est trop gras pour moi\n",
      "there are be a <unk>, ['he bought us some drinks'], il nous a paye quelques verres\n",
      "she has the sister to <unk>, ['she intended to go shopping'], elle avait l intention d aller faire des emplettes\n",
      "she was the to the the, ['she altered her old clothes to make them look more fashionable'], elle a raccommode ses vieilles fringues pour qu elles aient l air plus a la mode\n",
      "he did not not i a brother, ['he doesn t just speak french he speaks spanish as well'], il ne parle pas que francais mais aussi espagnol\n",
      "i am t i i <unk>, ['i don t have anybody who ll listen to me'], je n ai personne qui m ecoutera\n",
      "i have have be, ['i could have been killed'], j aurais pu etre tue\n",
      "in the i i i i <unk> a <unk>, ['then i m afraid we have a bit of a problem'], dans ce cas j ai bien peur qu il y ait un petit probleme\n",
      "why you t t you you it it ?, ['why don t you start by telling us who went with you ?'], pourquoi ne commencez vous pas par nous dire qui y est alle avec vous ?\n",
      "<unk> is t very ? ?, ['tom is an architect right ?'], tom est architecte pas vrai ?\n",
      "in the <unk> i i <unk> be not, ['in space no one can hear you scream'], dans l espace personne ne peut t entendre crier\n",
      "i i to to to to to <unk>, ['i hear the grass is green even in the winter in england'], j ai entendu dire qu en angleterre l herbe etait verte meme en hiver\n",
      "it s this to to to, ['it s cheaper to order things by the dozen'], c est moins cher de commander des choses a la douzaine\n",
      "he held to to the the, ['he turned the table upside down'], il retourna la table sur son plateau\n",
      "each to to this, ['who s playing hockey tonight ?'], qui joue au hockey ce soir ?\n",
      "i don t t t you it, ['i don t know how to contact you'], je ne sais pas comment prendre contact avec toi\n",
      "the <unk> <unk> the the, ['the chimney is belching black smoke'], la cheminee crache de la fumee noire\n",
      "i am, ['i hate that'], je deteste ca\n",
      "a a a a a <unk> the <unk>, ['once you have made a promise you should keep it'], une fois une promesse faite il faut la respecter\n",
      "but i i i i you you to you, ['when i grow up i want to be just like you'], quand je serai grande je veux etre exactement comme vous\n",
      "that s that that that that that, ['that s all you need to know'], c est tout ce qu il te faut savoir\n",
      "that you you you you you you, ['it would be great if you could join us for dinner'], ca serait vraiment bien si vous pouviez vous joindre a nous pour dejeuner\n",
      "i i to you you, ['i tried to warn you'], j ai essaye de vous prevenir\n",
      "you you be, ['you re ambitious'], tu es ambitieux\n",
      "a <unk> <unk> <unk> not not not, ['a wise man would not say such a thing'], un homme sage ne dirait pas une telle chose\n",
      "i don not to the, ['i don t believe in karma'], je ne crois pas au karma\n",
      "i was a the of, ['i got your letter yesterday'], j ai recu ta lettre hier\n",
      "you are be be, ['you re all crazy'], vous etes tous fous\n",
      "i i t you be that, ['i thought you d be taller'], je pensais que vous seriez plus grand\n",
      "we have to the the, ['we walked around the pond'], nous avons marche autour de l etang\n",
      "the <unk> is a and very <unk>, ['the water was calm and very blue'], l eau etait calme et tres bleue\n",
      "i i it is a that i is a <unk>, ['i know that it is highly unlikely that anyone would be willing to help me'], je sais qu il est hautement improbable que quiconque soit dispose a m aider\n",
      "that s the that that ! !, ['this is the girl you wanted to see'], c est la fille que tu voulais voir\n",
      "i i i you <unk> ?, ['may i use the phone ?'], puis je utiliser le telephone ?\n",
      "no i i it is to <unk> ?, ['anybody home ?'], y a t il quelqu un dans la maison ?\n",
      "you you be you, ['you are my hero'], tu es mon heros\n",
      "we are the the, ['we re wasting water'], nous sommes en train de gaspiller de l eau\n",
      "i couldn t to to, ['i love you more than anything'], je vous aime plus que tout\n",
      "i have the to the the the, ['i ran all the way to the station'], je courus tout le chemin jusqu a la gare\n",
      "he did not <unk> <unk> <unk>, ['he doesn t show his true feelings'], il ne montre pas ses veritables sentiments\n",
      "i i the s for for years, ['i watch tv now and then'], je regarde la television de temps en temps\n",
      "i am t a a m !, ['i m not a baby you know !'], je ne suis plus un bebe !\n",
      "it s it ?, ['you all right ?'], ca va bien ?\n",
      "the s s then to to i i, ['the bad smell sickened me'], la mauvaise odeur m a retourne le c ur\n",
      "we are have a, ['we ve got a lot of friends'], nous avons beaucoup d amis\n",
      "you don t you, ['you re not helping me'], tu ne m aides pas\n",
      "he is a very, ['he speaks really well'], il parle vraiment bien\n",
      "he <unk> <unk>, ['he gave a deep sigh'], il soupira profondement\n",
      "this this is not, ['this book is for you'], ce livre est pour toi\n",
      "spearthrower ! !, ['have a nice holiday'], bonnes vacances !\n",
      "i was a <unk>, ['i live in hyogo'], je vis a hyogo\n",
      "my you you you you ?, ['could you please briefly introduce yourself ?'], pourrais tu brievement te presenter ?\n",
      "where i you you ? ?, ['where did you get it ?'], ou as tu obtenu ceci ?\n",
      "the <unk> <unk> giulia, ['the dog bit my hand'], le chien mordit ma main\n",
      "the of of the <unk> was unclear, ['the criticism of the actor s performance was just'], la critique de la representation de l acteur etait juste\n",
      "<unk> s t that i, ['tom wondered if it was true'], tom s est demande si c etait vrai\n",
      "she <unk> to to to, ['she ll love him forever'], elle l aimera pour toujours\n",
      "this article is a of the the, ['this company is indifferent to the safety of its workers'], cette entreprise est indifferente a la securite de ses employes\n",
      "i lives in the war, ['i study japanese history'], j etudie l histoire japonaise\n",
      "i have to the in for in, ['i watched baseball on tv after i finished my homework'], j ai regarde le baseball a la television apres avoir termine mes devoirs\n",
      "i t the that, ['i ll handle things'], je gererai les choses\n",
      "i i had his child, ['i m the youngest child'], je suis la plus jeune enfant\n",
      "the was returned in the, ['dad stretched after dinner'], papa s est etendu apres le dejeuner\n",
      "the was also not to <unk>, ['the defendant was found not guilty by reason of insanity'], l accuse fut prononce non coupable en raison de sa folie\n",
      "<unk> <unk> <unk> <unk> in <unk>, ['the audience clapped loudly after his speech'], l assistance applaudit bruyamment apres son discours\n",
      "you did not to, ['you re not late'], tu n es pas en retard\n",
      "i am am <unk> <unk>, ['i felt dumb'], je me suis sentie idiote\n",
      "i was to to to to, ['i feel like going out rather than staying at home today'], j aimerais mieux sortir dehors que de rester a la maison aujourd hui\n",
      "this this is an, ['this box is light'], cette caisse est legere\n",
      "<unk> can t you you you ? ?, ['do you remember how we met ?'], te rappelles tu comment nous nous sommes rencontrees ?\n",
      "the s of in a a a, ['the rise in house prices enabled him to sell his house at a big profit'], la hausse des prix de l immobilier lui a permis de vendre sa maison en faisant un gros profit\n",
      "many people are <unk>, ['many people are upset'], de nombreuses personnes sont fachees\n",
      "we have <unk> <unk> in the, ['we ran down the hill'], nous avons descendu la colline en courant\n",
      "they are <unk> <unk>, ['they re really tight'], ils sont vraiment radins\n",
      "you be to the <unk>, ['you are such a liar !'], tu es un de ces menteurs !\n",
      "the <unk> is in <unk>, ['your cat is overweight'], ton chat est en surpoids\n",
      "the <unk> the the, ['rather than doing any good the rain did a great deal of harm to the crop'], la pluie a cause de gros degats a la recolte plutot qu elle lui a fait quoi que ce soit de bien\n",
      "where you you you you you you ? ?, ['will you tell me why you like her ?'], pourrais tu me dire pourquoi tu l aimes ?\n",
      "what to the you you !, ['speak louder please'], parlez plus fort s il vous plait\n",
      "you you t you you you i, ['you shouldn t get near my dog while he s eating'], vous ne devriez pas vous approcher de mon chien pendant qu il mange\n",
      "i don t to the, ['i m not writing about you'], je n ecris pas a ton sujet\n",
      "the features features, ['prices have gone down'], les prix ont baisse\n",
      "i m be <unk>, ['i m very poor'], je suis tres pauvre\n",
      "i am be to to, ['i made up my mind to go there'], je me decidai a y aller\n",
      "the <unk> is meters to meters, ['the milky way consists of about a hundred billion stars'], la voie lactee se compose d environ cent milliards d etoiles\n",
      "we have the, ['we re taking over'], nous prenons le controle\n",
      "you you to your know, ['you re smarter than me'], vous etes plus intelligent que moi\n",
      "why i t t you ? ?, ['why aren t you studying french ?'], pourquoi n etudiez vous pas le francais ?\n",
      "we we have a a a, ['we are faced with a host of problems'], nous sommes confrontes a une foule de problemes\n",
      "it s not to to, ['that s really nice to hear'], c est vraiment agreable a entendre\n"
     ]
    }
   ],
   "source": [
    "for i in range(100):\n",
    "    print(f'{predictions[i]}, {references[i]}, {tat_test_dataset[i][\"fr\"]}')"
   ]
  },
  {
   "cell_type": "code",
   "execution_count": 119,
   "id": "f592b801-7f09-4ebc-977a-1b137050b0b7",
   "metadata": {},
   "outputs": [
    {
     "data": {
      "text/plain": [
       "{'en': 'keep your hands on the wheel',\n",
       " 'fr': 'laissez les mains sur le volant',\n",
       " 'en_tokens': ['<sos>',\n",
       "  'keep',\n",
       "  'your',\n",
       "  'hands',\n",
       "  'on',\n",
       "  'the',\n",
       "  'wheel',\n",
       "  '<eos>'],\n",
       " 'fr_tokens': ['<sos>',\n",
       "  'laissez',\n",
       "  'les',\n",
       "  'mains',\n",
       "  'sur',\n",
       "  'le',\n",
       "  'volant',\n",
       "  '<eos>']}"
      ]
     },
     "execution_count": 119,
     "metadata": {},
     "output_type": "execute_result"
    }
   ],
   "source": [
    "tat_test_dataset[0]"
   ]
  },
  {
   "cell_type": "code",
   "execution_count": 120,
   "id": "9da1897c-0dcb-46ed-8fc9-e4e9641532d8",
   "metadata": {},
   "outputs": [],
   "source": [
    "def get_tokenizer_fn(nlp, lower):\n",
    "    def tokenizer_fn(s):\n",
    "        tokens = [token.text for token in nlp.tokenizer(s)]\n",
    "        if lower:\n",
    "            tokens = [token.lower() for token in tokens]\n",
    "        return tokens\n",
    "\n",
    "    return tokenizer_fn"
   ]
  },
  {
   "cell_type": "code",
   "execution_count": 121,
   "id": "cca3df89-572e-41d1-bbe1-d77577a64fcb",
   "metadata": {},
   "outputs": [],
   "source": [
    "tokenizer_fn = get_tokenizer_fn(en_nlp, lower)"
   ]
  },
  {
   "cell_type": "code",
   "execution_count": 122,
   "id": "f3ba67ed-3520-4d80-b2aa-ab70c57ccc00",
   "metadata": {},
   "outputs": [
    {
     "data": {
      "text/plain": [
       "(['each', 'the', 'the', 'the', 'the'],\n",
       " ['keep', 'your', 'hands', 'on', 'the', 'wheel'])"
      ]
     },
     "execution_count": 122,
     "metadata": {},
     "output_type": "execute_result"
    }
   ],
   "source": [
    "tokenizer_fn(predictions[0]), tokenizer_fn(references[0][0])"
   ]
  },
  {
   "cell_type": "code",
   "execution_count": 123,
   "id": "3141d10e-8daa-4099-9d17-8258b4e19dd8",
   "metadata": {},
   "outputs": [
    {
     "data": {
      "text/plain": [
       "{'bleu': 0.011675776571236252,\n",
       " 'precisions': [0.2445362299986991,\n",
       "  0.029952071600198325,\n",
       "  0.006236942362049896,\n",
       "  0.0004068190623789229],\n",
       " 'brevity_penalty': 1.0,\n",
       " 'length_ratio': 1.0131581837752346,\n",
       " 'translation_length': 92244,\n",
       " 'reference_length': 91046}"
      ]
     },
     "execution_count": 123,
     "metadata": {},
     "output_type": "execute_result"
    }
   ],
   "source": [
    "results = bleu.compute(\n",
    "    predictions=predictions, references=references, tokenizer=tokenizer_fn\n",
    ")\n",
    "results"
   ]
  },
  {
   "cell_type": "code",
   "execution_count": null,
   "id": "c5fba802-92cf-4c45-8fe9-32560505da89",
   "metadata": {},
   "outputs": [],
   "source": []
  }
 ],
 "metadata": {
  "kernelspec": {
   "display_name": "Python 3 (ipykernel)",
   "language": "python",
   "name": "python3"
  },
  "language_info": {
   "codemirror_mode": {
    "name": "ipython",
    "version": 3
   },
   "file_extension": ".py",
   "mimetype": "text/x-python",
   "name": "python",
   "nbconvert_exporter": "python",
   "pygments_lexer": "ipython3",
   "version": "3.12.2"
  }
 },
 "nbformat": 4,
 "nbformat_minor": 5
}
